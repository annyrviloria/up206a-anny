{
 "cells": [
  {
   "cell_type": "markdown",
   "metadata": {},
   "source": [
    "# Data Exploration\n",
    "For this assignment I am using one of the data sources I'll potentially use for my class project. The file contains 25 health indicators across countries based on their latest Demographic and Health Survey (DHS)."
   ]
  },
  {
   "cell_type": "code",
   "execution_count": 3,
   "metadata": {},
   "outputs": [],
   "source": [
    "import pandas as pd"
   ]
  },
  {
   "cell_type": "code",
   "execution_count": 4,
   "metadata": {},
   "outputs": [],
   "source": [
    "import geopandas as gpd"
   ]
  },
  {
   "cell_type": "code",
   "execution_count": 5,
   "metadata": {},
   "outputs": [],
   "source": [
    "df = gpd.read_file('data/sdr_national_data.shp')"
   ]
  },
  {
   "cell_type": "code",
   "execution_count": 6,
   "metadata": {},
   "outputs": [
    {
     "data": {
      "text/plain": [
       "geopandas.geodataframe.GeoDataFrame"
      ]
     },
     "execution_count": 6,
     "metadata": {},
     "output_type": "execute_result"
    }
   ],
   "source": [
    "type(df)"
   ]
  },
  {
   "cell_type": "code",
   "execution_count": 18,
   "metadata": {},
   "outputs": [
    {
     "data": {
      "text/plain": [
       "(87, 38)"
      ]
     },
     "execution_count": 18,
     "metadata": {},
     "output_type": "execute_result"
    }
   ],
   "source": [
    "#To find out how many countries are there included in the sample (I am assuming each row is a diffrent country):\n",
    "df.shape"
   ]
  },
  {
   "cell_type": "code",
   "execution_count": 8,
   "metadata": {},
   "outputs": [
    {
     "data": {
      "text/html": [
       "<div>\n",
       "<style scoped>\n",
       "    .dataframe tbody tr th:only-of-type {\n",
       "        vertical-align: middle;\n",
       "    }\n",
       "\n",
       "    .dataframe tbody tr th {\n",
       "        vertical-align: top;\n",
       "    }\n",
       "\n",
       "    .dataframe thead th {\n",
       "        text-align: right;\n",
       "    }\n",
       "</style>\n",
       "<table border=\"1\" class=\"dataframe\">\n",
       "  <thead>\n",
       "    <tr style=\"text-align: right;\">\n",
       "      <th></th>\n",
       "      <th>OBJECTID_1</th>\n",
       "      <th>CC</th>\n",
       "      <th>NAME</th>\n",
       "      <th>REGION</th>\n",
       "      <th>DHS_CC</th>\n",
       "      <th>Shape_Leng</th>\n",
       "      <th>Survey</th>\n",
       "      <th>SurveyType</th>\n",
       "      <th>YearLabel</th>\n",
       "      <th>FEFRTRWTFR</th>\n",
       "      <th>...</th>\n",
       "      <th>HACPHTWT1R</th>\n",
       "      <th>HACPHTMT1R</th>\n",
       "      <th>HAHIVPWHIV</th>\n",
       "      <th>HAHIVPMHIV</th>\n",
       "      <th>HAHIVPBHIV</th>\n",
       "      <th>FGPFCCWWCC</th>\n",
       "      <th>EDEDUCWSEH</th>\n",
       "      <th>EDLITRWLIT</th>\n",
       "      <th>HCELECHELC</th>\n",
       "      <th>geometry</th>\n",
       "    </tr>\n",
       "  </thead>\n",
       "  <tbody>\n",
       "    <tr>\n",
       "      <th>0</th>\n",
       "      <td>2</td>\n",
       "      <td>AO</td>\n",
       "      <td>ANGOLA</td>\n",
       "      <td>AFRICA</td>\n",
       "      <td>AO</td>\n",
       "      <td>67.647093</td>\n",
       "      <td>2015</td>\n",
       "      <td>DHS</td>\n",
       "      <td>2015-16</td>\n",
       "      <td>6.2</td>\n",
       "      <td>...</td>\n",
       "      <td>29.8</td>\n",
       "      <td>19.8</td>\n",
       "      <td>2.6</td>\n",
       "      <td>1.2</td>\n",
       "      <td>2.0</td>\n",
       "      <td>9999.0</td>\n",
       "      <td>43.1</td>\n",
       "      <td>58.1</td>\n",
       "      <td>41.6</td>\n",
       "      <td>MULTIPOLYGON (((18.14301 -8.03366, 18.14599 -8...</td>\n",
       "    </tr>\n",
       "    <tr>\n",
       "      <th>1</th>\n",
       "      <td>3</td>\n",
       "      <td>BN</td>\n",
       "      <td>BENIN</td>\n",
       "      <td>AFRICA</td>\n",
       "      <td>BJ</td>\n",
       "      <td>19.968853</td>\n",
       "      <td>2017</td>\n",
       "      <td>DHS</td>\n",
       "      <td>2017-18</td>\n",
       "      <td>5.7</td>\n",
       "      <td>...</td>\n",
       "      <td>14.1</td>\n",
       "      <td>7.1</td>\n",
       "      <td>9999.0</td>\n",
       "      <td>9999.0</td>\n",
       "      <td>9999.0</td>\n",
       "      <td>9999.0</td>\n",
       "      <td>25.1</td>\n",
       "      <td>34.1</td>\n",
       "      <td>35.6</td>\n",
       "      <td>MULTIPOLYGON (((3.60442 11.69335, 3.60444 11.6...</td>\n",
       "    </tr>\n",
       "    <tr>\n",
       "      <th>2</th>\n",
       "      <td>4</td>\n",
       "      <td>BC</td>\n",
       "      <td>BOTSWANA</td>\n",
       "      <td>AFRICA</td>\n",
       "      <td>BT</td>\n",
       "      <td>36.468590</td>\n",
       "      <td>1988</td>\n",
       "      <td>DHS</td>\n",
       "      <td>1988</td>\n",
       "      <td>4.9</td>\n",
       "      <td>...</td>\n",
       "      <td>9999.0</td>\n",
       "      <td>9999.0</td>\n",
       "      <td>9999.0</td>\n",
       "      <td>9999.0</td>\n",
       "      <td>9999.0</td>\n",
       "      <td>9999.0</td>\n",
       "      <td>9999.0</td>\n",
       "      <td>9999.0</td>\n",
       "      <td>9999.0</td>\n",
       "      <td>POLYGON ((20.99028 -22.00000, 21.00000 -22.000...</td>\n",
       "    </tr>\n",
       "    <tr>\n",
       "      <th>3</th>\n",
       "      <td>5</td>\n",
       "      <td>UV</td>\n",
       "      <td>BURKINA FASO</td>\n",
       "      <td>AFRICA</td>\n",
       "      <td>BF</td>\n",
       "      <td>31.609168</td>\n",
       "      <td>2010</td>\n",
       "      <td>DHS</td>\n",
       "      <td>2010</td>\n",
       "      <td>6.0</td>\n",
       "      <td>...</td>\n",
       "      <td>11.2</td>\n",
       "      <td>8.4</td>\n",
       "      <td>1.2</td>\n",
       "      <td>0.8</td>\n",
       "      <td>1.0</td>\n",
       "      <td>75.8</td>\n",
       "      <td>12.4</td>\n",
       "      <td>22.5</td>\n",
       "      <td>13.1</td>\n",
       "      <td>POLYGON ((0.66611 10.99611, 0.64833 10.99028, ...</td>\n",
       "    </tr>\n",
       "    <tr>\n",
       "      <th>4</th>\n",
       "      <td>6</td>\n",
       "      <td>BY</td>\n",
       "      <td>BURUNDI</td>\n",
       "      <td>AFRICA</td>\n",
       "      <td>BU</td>\n",
       "      <td>8.577774</td>\n",
       "      <td>2016</td>\n",
       "      <td>DHS</td>\n",
       "      <td>2016-17</td>\n",
       "      <td>5.5</td>\n",
       "      <td>...</td>\n",
       "      <td>29.1</td>\n",
       "      <td>20.7</td>\n",
       "      <td>1.2</td>\n",
       "      <td>0.6</td>\n",
       "      <td>0.9</td>\n",
       "      <td>9999.0</td>\n",
       "      <td>24.5</td>\n",
       "      <td>67.9</td>\n",
       "      <td>8.7</td>\n",
       "      <td>POLYGON ((29.24472 -3.63306, 29.24472 -3.62649...</td>\n",
       "    </tr>\n",
       "  </tbody>\n",
       "</table>\n",
       "<p>5 rows × 38 columns</p>\n",
       "</div>"
      ],
      "text/plain": [
       "   OBJECTID_1  CC          NAME  REGION DHS_CC  Shape_Leng  Survey SurveyType  \\\n",
       "0           2  AO        ANGOLA  AFRICA     AO   67.647093    2015        DHS   \n",
       "1           3  BN         BENIN  AFRICA     BJ   19.968853    2017        DHS   \n",
       "2           4  BC      BOTSWANA  AFRICA     BT   36.468590    1988        DHS   \n",
       "3           5  UV  BURKINA FASO  AFRICA     BF   31.609168    2010        DHS   \n",
       "4           6  BY       BURUNDI  AFRICA     BU    8.577774    2016        DHS   \n",
       "\n",
       "  YearLabel  FEFRTRWTFR  ...  HACPHTWT1R  HACPHTMT1R  HAHIVPWHIV  HAHIVPMHIV  \\\n",
       "0   2015-16         6.2  ...        29.8        19.8         2.6         1.2   \n",
       "1   2017-18         5.7  ...        14.1         7.1      9999.0      9999.0   \n",
       "2      1988         4.9  ...      9999.0      9999.0      9999.0      9999.0   \n",
       "3      2010         6.0  ...        11.2         8.4         1.2         0.8   \n",
       "4   2016-17         5.5  ...        29.1        20.7         1.2         0.6   \n",
       "\n",
       "   HAHIVPBHIV  FGPFCCWWCC  EDEDUCWSEH  EDLITRWLIT  HCELECHELC  \\\n",
       "0         2.0      9999.0        43.1        58.1        41.6   \n",
       "1      9999.0      9999.0        25.1        34.1        35.6   \n",
       "2      9999.0      9999.0      9999.0      9999.0      9999.0   \n",
       "3         1.0        75.8        12.4        22.5        13.1   \n",
       "4         0.9      9999.0        24.5        67.9         8.7   \n",
       "\n",
       "                                            geometry  \n",
       "0  MULTIPOLYGON (((18.14301 -8.03366, 18.14599 -8...  \n",
       "1  MULTIPOLYGON (((3.60442 11.69335, 3.60444 11.6...  \n",
       "2  POLYGON ((20.99028 -22.00000, 21.00000 -22.000...  \n",
       "3  POLYGON ((0.66611 10.99611, 0.64833 10.99028, ...  \n",
       "4  POLYGON ((29.24472 -3.63306, 29.24472 -3.62649...  \n",
       "\n",
       "[5 rows x 38 columns]"
      ]
     },
     "execution_count": 8,
     "metadata": {},
     "output_type": "execute_result"
    }
   ],
   "source": [
    "#Now I'd like to know what the column headers are besides the 25 containing the selected health indicators.\n",
    "df.head()"
   ]
  },
  {
   "cell_type": "code",
   "execution_count": 9,
   "metadata": {},
   "outputs": [
    {
     "name": "stdout",
     "output_type": "stream",
     "text": [
      "<class 'geopandas.geodataframe.GeoDataFrame'>\n",
      "RangeIndex: 87 entries, 0 to 86\n",
      "Data columns (total 38 columns):\n",
      " #   Column      Non-Null Count  Dtype   \n",
      "---  ------      --------------  -----   \n",
      " 0   OBJECTID_1  87 non-null     int64   \n",
      " 1   CC          87 non-null     object  \n",
      " 2   NAME        87 non-null     object  \n",
      " 3   REGION      87 non-null     object  \n",
      " 4   DHS_CC      87 non-null     object  \n",
      " 5   Shape_Leng  87 non-null     float64 \n",
      " 6   Survey      87 non-null     int64   \n",
      " 7   SurveyType  87 non-null     object  \n",
      " 8   YearLabel   87 non-null     object  \n",
      " 9   FEFRTRWTFR  87 non-null     float64 \n",
      " 10  FPCUSMWANY  87 non-null     float64 \n",
      " 11  FPCUSMWMOD  87 non-null     float64 \n",
      " 12  FPNADMWUNT  87 non-null     float64 \n",
      " 13  FPNADMWPDM  87 non-null     float64 \n",
      " 14  MAAAFMWM2B  87 non-null     float64 \n",
      " 15  SXAAFSWM2B  87 non-null     float64 \n",
      " 16  CMECMRCIMR  87 non-null     float64 \n",
      " 17  CMECMRCU5M  87 non-null     float64 \n",
      " 18  MMMMROWPMR  87 non-null     float64 \n",
      " 19  MMMMROWMMR  87 non-null     float64 \n",
      " 20  RHDELPCDHF  87 non-null     float64 \n",
      " 21  CHVACCCBAS  87 non-null     float64 \n",
      " 22  CHDIATCORT  87 non-null     float64 \n",
      " 23  CNNUTSCHA2  87 non-null     float64 \n",
      " 24  CNNUTSCWH2  87 non-null     float64 \n",
      " 25  CNNUTSCWA2  87 non-null     float64 \n",
      " 26  CNBFDRCMDE  87 non-null     float64 \n",
      " 27  MLNETCCITN  87 non-null     float64 \n",
      " 28  HACPHTWT1R  87 non-null     float64 \n",
      " 29  HACPHTMT1R  87 non-null     float64 \n",
      " 30  HAHIVPWHIV  87 non-null     float64 \n",
      " 31  HAHIVPMHIV  87 non-null     float64 \n",
      " 32  HAHIVPBHIV  87 non-null     float64 \n",
      " 33  FGPFCCWWCC  87 non-null     float64 \n",
      " 34  EDEDUCWSEH  87 non-null     float64 \n",
      " 35  EDLITRWLIT  87 non-null     float64 \n",
      " 36  HCELECHELC  87 non-null     float64 \n",
      " 37  geometry    87 non-null     geometry\n",
      "dtypes: float64(29), geometry(1), int64(2), object(6)\n",
      "memory usage: 26.0+ KB\n"
     ]
    }
   ],
   "source": [
    "df.info()"
   ]
  },
  {
   "cell_type": "markdown",
   "metadata": {},
   "source": [
    "One thing to note from the last 2 operations is that although there do not appear to be any missing values according to the df.info output, the df.head() output tells me there are at least some fields with missing values (Botswana has a bunch of 9999.00 which I assume are 9999). I will probably need to set these values to equal 'NaN' or something els so they are actually read as missing."
   ]
  },
  {
   "cell_type": "code",
   "execution_count": 10,
   "metadata": {},
   "outputs": [
    {
     "data": {
      "text/plain": [
       "['OBJECTID_1',\n",
       " 'CC',\n",
       " 'NAME',\n",
       " 'REGION',\n",
       " 'DHS_CC',\n",
       " 'Shape_Leng',\n",
       " 'Survey',\n",
       " 'SurveyType',\n",
       " 'YearLabel',\n",
       " 'FEFRTRWTFR',\n",
       " 'FPCUSMWANY',\n",
       " 'FPCUSMWMOD',\n",
       " 'FPNADMWUNT',\n",
       " 'FPNADMWPDM',\n",
       " 'MAAAFMWM2B',\n",
       " 'SXAAFSWM2B',\n",
       " 'CMECMRCIMR',\n",
       " 'CMECMRCU5M',\n",
       " 'MMMMROWPMR',\n",
       " 'MMMMROWMMR',\n",
       " 'RHDELPCDHF',\n",
       " 'CHVACCCBAS',\n",
       " 'CHDIATCORT',\n",
       " 'CNNUTSCHA2',\n",
       " 'CNNUTSCWH2',\n",
       " 'CNNUTSCWA2',\n",
       " 'CNBFDRCMDE',\n",
       " 'MLNETCCITN',\n",
       " 'HACPHTWT1R',\n",
       " 'HACPHTMT1R',\n",
       " 'HAHIVPWHIV',\n",
       " 'HAHIVPMHIV',\n",
       " 'HAHIVPBHIV',\n",
       " 'FGPFCCWWCC',\n",
       " 'EDEDUCWSEH',\n",
       " 'EDLITRWLIT',\n",
       " 'HCELECHELC',\n",
       " 'geometry']"
      ]
     },
     "execution_count": 10,
     "metadata": {},
     "output_type": "execute_result"
    }
   ],
   "source": [
    "df.columns.to_list()"
   ]
  },
  {
   "cell_type": "code",
   "execution_count": 22,
   "metadata": {},
   "outputs": [],
   "source": [
    "#I am changing the column names based on the data codebook to make it easier to work with them:\n",
    "\n",
    "df.columns= ['OBJECTID_1',\n",
    " 'CC',\n",
    " 'NAME',\n",
    " 'REGION',\n",
    " 'DHS_CC',\n",
    " 'Shape_Leng',\n",
    " 'Survey',\n",
    " 'SurveyType',\n",
    " 'YearLabel',\n",
    " 'TotalFertRate',\n",
    " 'Contracept_Any_PCT',\n",
    " 'Contracept_Mod_PCT',\n",
    " 'Contracept_Unmet_PCT',\n",
    " 'Contracept_Met_PCT',\n",
    " 'MarriageAge_MDN',\n",
    " 'SexAge_MDN',\n",
    " 'InfantMortRate',\n",
    " 'U5MortRate',\n",
    " 'PregantMortRatio',\n",
    " 'MaternalMortRatio',\n",
    " 'FacilityBirth_PCT',\n",
    " 'Vaccines_PCT',\n",
    " 'ORS_PCT',\n",
    " 'ChildStunted_PCT',\n",
    " 'ChildUWasted_PCT',\n",
    " 'ChildUnderweight_PCT',\n",
    " 'MonthsBreastfeed_MDN',\n",
    " 'ChildBedNet_PCT',\n",
    " 'HIVTest_Women_PCT',\n",
    " 'HIVTest_Men_PCT',\n",
    " 'HIVPreval_Women',\n",
    " 'HIVPreval_Men',\n",
    " 'HIVPreval_All',\n",
    " 'FGM_PCT',\n",
    " 'WomenEd_PCT',\n",
    " 'WomenLit_PCT',\n",
    " 'HCELECHELC',\n",
    " 'geometry']"
   ]
  },
  {
   "cell_type": "code",
   "execution_count": 23,
   "metadata": {},
   "outputs": [
    {
     "data": {
      "text/plain": [
       "[]"
      ]
     },
     "execution_count": 23,
     "metadata": {},
     "output_type": "execute_result"
    }
   ],
   "source": [
    "#And now I want to know if there are any empty columns in order to start trimming my dataset\n",
    "\n",
    "df.columns[df.isna().all()].tolist()"
   ]
  },
  {
   "cell_type": "markdown",
   "metadata": {},
   "source": [
    "In a way I wish there were some empty columns to make it easier to narrow down my analysis, but since there aren't, I will take a look at vaccionation rates for now. Later on, if I decide to move forward with this dataset in my project, I'll think about what variables lend themselves best to be compared across countries (based on how complete the data are)."
   ]
  },
  {
   "cell_type": "code",
   "execution_count": 24,
   "metadata": {},
   "outputs": [
    {
     "data": {
      "text/plain": [
       "count      87.000000\n",
       "mean      402.985057\n",
       "std      1824.094055\n",
       "min        17.400000\n",
       "25%        47.200000\n",
       "50%        64.500000\n",
       "75%        77.000000\n",
       "max      9999.000000\n",
       "Name: Vaccines_PCT, dtype: float64"
      ]
     },
     "execution_count": 24,
     "metadata": {},
     "output_type": "execute_result"
    }
   ],
   "source": [
    "df['Vaccines_PCT'].describe()"
   ]
  },
  {
   "cell_type": "markdown",
   "metadata": {},
   "source": [
    "One error I can already spot is that the maximum value should be 100 and not 9999.00. These values will need to be set to missing manually."
   ]
  },
  {
   "cell_type": "code",
   "execution_count": 25,
   "metadata": {},
   "outputs": [
    {
     "data": {
      "text/html": [
       "<div>\n",
       "<style scoped>\n",
       "    .dataframe tbody tr th:only-of-type {\n",
       "        vertical-align: middle;\n",
       "    }\n",
       "\n",
       "    .dataframe tbody tr th {\n",
       "        vertical-align: top;\n",
       "    }\n",
       "\n",
       "    .dataframe thead th {\n",
       "        text-align: right;\n",
       "    }\n",
       "</style>\n",
       "<table border=\"1\" class=\"dataframe\">\n",
       "  <thead>\n",
       "    <tr style=\"text-align: right;\">\n",
       "      <th></th>\n",
       "      <th>NAME</th>\n",
       "      <th>Vaccines_PCT</th>\n",
       "    </tr>\n",
       "  </thead>\n",
       "  <tbody>\n",
       "    <tr>\n",
       "      <th>61</th>\n",
       "      <td>THAILAND</td>\n",
       "      <td>17.4</td>\n",
       "    </tr>\n",
       "    <tr>\n",
       "      <th>12</th>\n",
       "      <td>ETHIOPIA</td>\n",
       "      <td>20.4</td>\n",
       "    </tr>\n",
       "    <tr>\n",
       "      <th>66</th>\n",
       "      <td>JORDAN</td>\n",
       "      <td>20.5</td>\n",
       "    </tr>\n",
       "    <tr>\n",
       "      <th>74</th>\n",
       "      <td>MEXICO</td>\n",
       "      <td>20.7</td>\n",
       "    </tr>\n",
       "    <tr>\n",
       "      <th>42</th>\n",
       "      <td>NIGERIA</td>\n",
       "      <td>25.3</td>\n",
       "    </tr>\n",
       "    <tr>\n",
       "      <th>6</th>\n",
       "      <td>CHAD</td>\n",
       "      <td>25.3</td>\n",
       "    </tr>\n",
       "    <tr>\n",
       "      <th>69</th>\n",
       "      <td>YEMEN</td>\n",
       "      <td>28.3</td>\n",
       "    </tr>\n",
       "    <tr>\n",
       "      <th>9</th>\n",
       "      <td>CONGO (Kinshasa)</td>\n",
       "      <td>30.6</td>\n",
       "    </tr>\n",
       "    <tr>\n",
       "      <th>0</th>\n",
       "      <td>ANGOLA</td>\n",
       "      <td>30.6</td>\n",
       "    </tr>\n",
       "    <tr>\n",
       "      <th>13</th>\n",
       "      <td>GABON</td>\n",
       "      <td>31.6</td>\n",
       "    </tr>\n",
       "  </tbody>\n",
       "</table>\n",
       "</div>"
      ],
      "text/plain": [
       "                NAME  Vaccines_PCT\n",
       "61          THAILAND          17.4\n",
       "12          ETHIOPIA          20.4\n",
       "66            JORDAN          20.5\n",
       "74            MEXICO          20.7\n",
       "42           NIGERIA          25.3\n",
       "6               CHAD          25.3\n",
       "69             YEMEN          28.3\n",
       "9   CONGO (Kinshasa)          30.6\n",
       "0             ANGOLA          30.6\n",
       "13             GABON          31.6"
      ]
     },
     "execution_count": 25,
     "metadata": {},
     "output_type": "execute_result"
    }
   ],
   "source": [
    "# I am more interested on the countries with lower vaccination rates, so I am sorting my dataset based on vaccination percentages on ascending order.\n",
    "\n",
    "df_sorted = df.sort_values(by='Vaccines_PCT',ascending = True) \n",
    "df_sorted[['NAME','Vaccines_PCT']].head(10)"
   ]
  },
  {
   "cell_type": "code",
   "execution_count": 26,
   "metadata": {},
   "outputs": [
    {
     "data": {
      "text/plain": [
       "geopandas.geodataframe.GeoDataFrame"
      ]
     },
     "execution_count": 26,
     "metadata": {},
     "output_type": "execute_result"
    }
   ],
   "source": [
    "type(df_sorted)"
   ]
  },
  {
   "cell_type": "code",
   "execution_count": 27,
   "metadata": {},
   "outputs": [
    {
     "ename": "AttributeError",
     "evalue": "'PatchCollection' object has no property 'x'",
     "output_type": "error",
     "traceback": [
      "\u001b[0;31m---------------------------------------------------------------------------\u001b[0m",
      "\u001b[0;31mAttributeError\u001b[0m                            Traceback (most recent call last)",
      "\u001b[0;32m<ipython-input-27-e4133dc32c43>\u001b[0m in \u001b[0;36m<module>\u001b[0;34m\u001b[0m\n\u001b[0;32m----> 1\u001b[0;31m df_sorted.head(10).plot(x='CC',\n\u001b[0m\u001b[1;32m      2\u001b[0m                \u001b[0my\u001b[0m\u001b[0;34m=\u001b[0m\u001b[0;34m'Vaccines_PCT'\u001b[0m\u001b[0;34m,\u001b[0m\u001b[0;34m\u001b[0m\u001b[0;34m\u001b[0m\u001b[0m\n\u001b[1;32m      3\u001b[0m                kind='bar')\n",
      "\u001b[0;32m/opt/conda/lib/python3.8/site-packages/geopandas/geodataframe.py\u001b[0m in \u001b[0;36mplot\u001b[0;34m(self, *args, **kwargs)\u001b[0m\n\u001b[1;32m    919\u001b[0m         \u001b[0;32mfrom\u001b[0m \u001b[0mthere\u001b[0m\u001b[0;34m.\u001b[0m\u001b[0;34m\u001b[0m\u001b[0;34m\u001b[0m\u001b[0m\n\u001b[1;32m    920\u001b[0m         \"\"\"\n\u001b[0;32m--> 921\u001b[0;31m         \u001b[0;32mreturn\u001b[0m \u001b[0mplot_dataframe\u001b[0m\u001b[0;34m(\u001b[0m\u001b[0mself\u001b[0m\u001b[0;34m,\u001b[0m \u001b[0;34m*\u001b[0m\u001b[0margs\u001b[0m\u001b[0;34m,\u001b[0m \u001b[0;34m**\u001b[0m\u001b[0mkwargs\u001b[0m\u001b[0;34m)\u001b[0m\u001b[0;34m\u001b[0m\u001b[0;34m\u001b[0m\u001b[0m\n\u001b[0m\u001b[1;32m    922\u001b[0m \u001b[0;34m\u001b[0m\u001b[0m\n\u001b[1;32m    923\u001b[0m     \u001b[0mplot\u001b[0m\u001b[0;34m.\u001b[0m\u001b[0m__doc__\u001b[0m \u001b[0;34m=\u001b[0m \u001b[0mplot_dataframe\u001b[0m\u001b[0;34m.\u001b[0m\u001b[0m__doc__\u001b[0m\u001b[0;34m\u001b[0m\u001b[0;34m\u001b[0m\u001b[0m\n",
      "\u001b[0;32m/opt/conda/lib/python3.8/site-packages/geopandas/plotting.py\u001b[0m in \u001b[0;36mplot_dataframe\u001b[0;34m(df, column, cmap, color, ax, cax, categorical, legend, scheme, k, vmin, vmax, markersize, figsize, legend_kwds, categories, classification_kwds, missing_kwds, aspect, **style_kwds)\u001b[0m\n\u001b[1;32m    613\u001b[0m \u001b[0;34m\u001b[0m\u001b[0m\n\u001b[1;32m    614\u001b[0m     \u001b[0;32mif\u001b[0m \u001b[0mcolumn\u001b[0m \u001b[0;32mis\u001b[0m \u001b[0;32mNone\u001b[0m\u001b[0;34m:\u001b[0m\u001b[0;34m\u001b[0m\u001b[0;34m\u001b[0m\u001b[0m\n\u001b[0;32m--> 615\u001b[0;31m         return plot_series(\n\u001b[0m\u001b[1;32m    616\u001b[0m             \u001b[0mdf\u001b[0m\u001b[0;34m.\u001b[0m\u001b[0mgeometry\u001b[0m\u001b[0;34m,\u001b[0m\u001b[0;34m\u001b[0m\u001b[0;34m\u001b[0m\u001b[0m\n\u001b[1;32m    617\u001b[0m             \u001b[0mcmap\u001b[0m\u001b[0;34m=\u001b[0m\u001b[0mcmap\u001b[0m\u001b[0;34m,\u001b[0m\u001b[0;34m\u001b[0m\u001b[0;34m\u001b[0m\u001b[0m\n",
      "\u001b[0;32m/opt/conda/lib/python3.8/site-packages/geopandas/plotting.py\u001b[0m in \u001b[0;36mplot_series\u001b[0;34m(s, cmap, color, ax, figsize, aspect, **style_kwds)\u001b[0m\n\u001b[1;32m    411\u001b[0m \u001b[0;34m\u001b[0m\u001b[0m\n\u001b[1;32m    412\u001b[0m         \u001b[0mvalues_\u001b[0m \u001b[0;34m=\u001b[0m \u001b[0mvalues\u001b[0m\u001b[0;34m[\u001b[0m\u001b[0mpoly_idx\u001b[0m\u001b[0;34m]\u001b[0m \u001b[0;32mif\u001b[0m \u001b[0mcmap\u001b[0m \u001b[0;32melse\u001b[0m \u001b[0;32mNone\u001b[0m\u001b[0;34m\u001b[0m\u001b[0;34m\u001b[0m\u001b[0m\n\u001b[0;32m--> 413\u001b[0;31m         _plot_polygon_collection(\n\u001b[0m\u001b[1;32m    414\u001b[0m             \u001b[0max\u001b[0m\u001b[0;34m,\u001b[0m \u001b[0mpolys\u001b[0m\u001b[0;34m,\u001b[0m \u001b[0mvalues_\u001b[0m\u001b[0;34m,\u001b[0m \u001b[0mfacecolor\u001b[0m\u001b[0;34m=\u001b[0m\u001b[0mfacecolor\u001b[0m\u001b[0;34m,\u001b[0m \u001b[0mcmap\u001b[0m\u001b[0;34m=\u001b[0m\u001b[0mcmap\u001b[0m\u001b[0;34m,\u001b[0m \u001b[0;34m**\u001b[0m\u001b[0mstyle_kwds\u001b[0m\u001b[0;34m\u001b[0m\u001b[0;34m\u001b[0m\u001b[0m\n\u001b[1;32m    415\u001b[0m         )\n",
      "\u001b[0;32m/opt/conda/lib/python3.8/site-packages/geopandas/plotting.py\u001b[0m in \u001b[0;36m_plot_polygon_collection\u001b[0;34m(ax, geoms, values, color, cmap, vmin, vmax, **kwargs)\u001b[0m\n\u001b[1;32m    144\u001b[0m     \u001b[0m_expand_kwargs\u001b[0m\u001b[0;34m(\u001b[0m\u001b[0mkwargs\u001b[0m\u001b[0;34m,\u001b[0m \u001b[0mmultiindex\u001b[0m\u001b[0;34m)\u001b[0m\u001b[0;34m\u001b[0m\u001b[0;34m\u001b[0m\u001b[0m\n\u001b[1;32m    145\u001b[0m \u001b[0;34m\u001b[0m\u001b[0m\n\u001b[0;32m--> 146\u001b[0;31m     \u001b[0mcollection\u001b[0m \u001b[0;34m=\u001b[0m \u001b[0mPatchCollection\u001b[0m\u001b[0;34m(\u001b[0m\u001b[0;34m[\u001b[0m\u001b[0mPolygonPatch\u001b[0m\u001b[0;34m(\u001b[0m\u001b[0mpoly\u001b[0m\u001b[0;34m)\u001b[0m \u001b[0;32mfor\u001b[0m \u001b[0mpoly\u001b[0m \u001b[0;32min\u001b[0m \u001b[0mgeoms\u001b[0m\u001b[0;34m]\u001b[0m\u001b[0;34m,\u001b[0m \u001b[0;34m**\u001b[0m\u001b[0mkwargs\u001b[0m\u001b[0;34m)\u001b[0m\u001b[0;34m\u001b[0m\u001b[0;34m\u001b[0m\u001b[0m\n\u001b[0m\u001b[1;32m    147\u001b[0m \u001b[0;34m\u001b[0m\u001b[0m\n\u001b[1;32m    148\u001b[0m     \u001b[0;32mif\u001b[0m \u001b[0mvalues\u001b[0m \u001b[0;32mis\u001b[0m \u001b[0;32mnot\u001b[0m \u001b[0;32mNone\u001b[0m\u001b[0;34m:\u001b[0m\u001b[0;34m\u001b[0m\u001b[0;34m\u001b[0m\u001b[0m\n",
      "\u001b[0;32m/opt/conda/lib/python3.8/site-packages/matplotlib/collections.py\u001b[0m in \u001b[0;36m__init__\u001b[0;34m(self, patches, match_original, **kwargs)\u001b[0m\n\u001b[1;32m   1832\u001b[0m             \u001b[0mkwargs\u001b[0m\u001b[0;34m[\u001b[0m\u001b[0;34m'antialiaseds'\u001b[0m\u001b[0;34m]\u001b[0m \u001b[0;34m=\u001b[0m \u001b[0;34m[\u001b[0m\u001b[0mp\u001b[0m\u001b[0;34m.\u001b[0m\u001b[0mget_antialiased\u001b[0m\u001b[0;34m(\u001b[0m\u001b[0;34m)\u001b[0m \u001b[0;32mfor\u001b[0m \u001b[0mp\u001b[0m \u001b[0;32min\u001b[0m \u001b[0mpatches\u001b[0m\u001b[0;34m]\u001b[0m\u001b[0;34m\u001b[0m\u001b[0;34m\u001b[0m\u001b[0m\n\u001b[1;32m   1833\u001b[0m \u001b[0;34m\u001b[0m\u001b[0m\n\u001b[0;32m-> 1834\u001b[0;31m         \u001b[0mCollection\u001b[0m\u001b[0;34m.\u001b[0m\u001b[0m__init__\u001b[0m\u001b[0;34m(\u001b[0m\u001b[0mself\u001b[0m\u001b[0;34m,\u001b[0m \u001b[0;34m**\u001b[0m\u001b[0mkwargs\u001b[0m\u001b[0;34m)\u001b[0m\u001b[0;34m\u001b[0m\u001b[0;34m\u001b[0m\u001b[0m\n\u001b[0m\u001b[1;32m   1835\u001b[0m \u001b[0;34m\u001b[0m\u001b[0m\n\u001b[1;32m   1836\u001b[0m         \u001b[0mself\u001b[0m\u001b[0;34m.\u001b[0m\u001b[0mset_paths\u001b[0m\u001b[0;34m(\u001b[0m\u001b[0mpatches\u001b[0m\u001b[0;34m)\u001b[0m\u001b[0;34m\u001b[0m\u001b[0;34m\u001b[0m\u001b[0m\n",
      "\u001b[0;32m/opt/conda/lib/python3.8/site-packages/matplotlib/collections.py\u001b[0m in \u001b[0;36m__init__\u001b[0;34m(self, edgecolors, facecolors, linewidths, linestyles, capstyle, joinstyle, antialiaseds, offsets, transOffset, norm, cmap, pickradius, hatch, urls, offset_position, zorder, **kwargs)\u001b[0m\n\u001b[1;32m    162\u001b[0m \u001b[0;34m\u001b[0m\u001b[0m\n\u001b[1;32m    163\u001b[0m         \u001b[0mself\u001b[0m\u001b[0;34m.\u001b[0m\u001b[0m_path_effects\u001b[0m \u001b[0;34m=\u001b[0m \u001b[0;32mNone\u001b[0m\u001b[0;34m\u001b[0m\u001b[0;34m\u001b[0m\u001b[0m\n\u001b[0;32m--> 164\u001b[0;31m         \u001b[0mself\u001b[0m\u001b[0;34m.\u001b[0m\u001b[0mupdate\u001b[0m\u001b[0;34m(\u001b[0m\u001b[0mkwargs\u001b[0m\u001b[0;34m)\u001b[0m\u001b[0;34m\u001b[0m\u001b[0;34m\u001b[0m\u001b[0m\n\u001b[0m\u001b[1;32m    165\u001b[0m         \u001b[0mself\u001b[0m\u001b[0;34m.\u001b[0m\u001b[0m_paths\u001b[0m \u001b[0;34m=\u001b[0m \u001b[0;32mNone\u001b[0m\u001b[0;34m\u001b[0m\u001b[0;34m\u001b[0m\u001b[0m\n\u001b[1;32m    166\u001b[0m \u001b[0;34m\u001b[0m\u001b[0m\n",
      "\u001b[0;32m/opt/conda/lib/python3.8/site-packages/matplotlib/artist.py\u001b[0m in \u001b[0;36mupdate\u001b[0;34m(self, props)\u001b[0m\n\u001b[1;32m   1004\u001b[0m \u001b[0;34m\u001b[0m\u001b[0m\n\u001b[1;32m   1005\u001b[0m         \u001b[0;32mwith\u001b[0m \u001b[0mcbook\u001b[0m\u001b[0;34m.\u001b[0m\u001b[0m_setattr_cm\u001b[0m\u001b[0;34m(\u001b[0m\u001b[0mself\u001b[0m\u001b[0;34m,\u001b[0m \u001b[0meventson\u001b[0m\u001b[0;34m=\u001b[0m\u001b[0;32mFalse\u001b[0m\u001b[0;34m)\u001b[0m\u001b[0;34m:\u001b[0m\u001b[0;34m\u001b[0m\u001b[0;34m\u001b[0m\u001b[0m\n\u001b[0;32m-> 1006\u001b[0;31m             \u001b[0mret\u001b[0m \u001b[0;34m=\u001b[0m \u001b[0;34m[\u001b[0m\u001b[0m_update_property\u001b[0m\u001b[0;34m(\u001b[0m\u001b[0mself\u001b[0m\u001b[0;34m,\u001b[0m \u001b[0mk\u001b[0m\u001b[0;34m,\u001b[0m \u001b[0mv\u001b[0m\u001b[0;34m)\u001b[0m \u001b[0;32mfor\u001b[0m \u001b[0mk\u001b[0m\u001b[0;34m,\u001b[0m \u001b[0mv\u001b[0m \u001b[0;32min\u001b[0m \u001b[0mprops\u001b[0m\u001b[0;34m.\u001b[0m\u001b[0mitems\u001b[0m\u001b[0;34m(\u001b[0m\u001b[0;34m)\u001b[0m\u001b[0;34m]\u001b[0m\u001b[0;34m\u001b[0m\u001b[0;34m\u001b[0m\u001b[0m\n\u001b[0m\u001b[1;32m   1007\u001b[0m \u001b[0;34m\u001b[0m\u001b[0m\n\u001b[1;32m   1008\u001b[0m         \u001b[0;32mif\u001b[0m \u001b[0mlen\u001b[0m\u001b[0;34m(\u001b[0m\u001b[0mret\u001b[0m\u001b[0;34m)\u001b[0m\u001b[0;34m:\u001b[0m\u001b[0;34m\u001b[0m\u001b[0;34m\u001b[0m\u001b[0m\n",
      "\u001b[0;32m/opt/conda/lib/python3.8/site-packages/matplotlib/artist.py\u001b[0m in \u001b[0;36m<listcomp>\u001b[0;34m(.0)\u001b[0m\n\u001b[1;32m   1004\u001b[0m \u001b[0;34m\u001b[0m\u001b[0m\n\u001b[1;32m   1005\u001b[0m         \u001b[0;32mwith\u001b[0m \u001b[0mcbook\u001b[0m\u001b[0;34m.\u001b[0m\u001b[0m_setattr_cm\u001b[0m\u001b[0;34m(\u001b[0m\u001b[0mself\u001b[0m\u001b[0;34m,\u001b[0m \u001b[0meventson\u001b[0m\u001b[0;34m=\u001b[0m\u001b[0;32mFalse\u001b[0m\u001b[0;34m)\u001b[0m\u001b[0;34m:\u001b[0m\u001b[0;34m\u001b[0m\u001b[0;34m\u001b[0m\u001b[0m\n\u001b[0;32m-> 1006\u001b[0;31m             \u001b[0mret\u001b[0m \u001b[0;34m=\u001b[0m \u001b[0;34m[\u001b[0m\u001b[0m_update_property\u001b[0m\u001b[0;34m(\u001b[0m\u001b[0mself\u001b[0m\u001b[0;34m,\u001b[0m \u001b[0mk\u001b[0m\u001b[0;34m,\u001b[0m \u001b[0mv\u001b[0m\u001b[0;34m)\u001b[0m \u001b[0;32mfor\u001b[0m \u001b[0mk\u001b[0m\u001b[0;34m,\u001b[0m \u001b[0mv\u001b[0m \u001b[0;32min\u001b[0m \u001b[0mprops\u001b[0m\u001b[0;34m.\u001b[0m\u001b[0mitems\u001b[0m\u001b[0;34m(\u001b[0m\u001b[0;34m)\u001b[0m\u001b[0;34m]\u001b[0m\u001b[0;34m\u001b[0m\u001b[0;34m\u001b[0m\u001b[0m\n\u001b[0m\u001b[1;32m   1007\u001b[0m \u001b[0;34m\u001b[0m\u001b[0m\n\u001b[1;32m   1008\u001b[0m         \u001b[0;32mif\u001b[0m \u001b[0mlen\u001b[0m\u001b[0;34m(\u001b[0m\u001b[0mret\u001b[0m\u001b[0;34m)\u001b[0m\u001b[0;34m:\u001b[0m\u001b[0;34m\u001b[0m\u001b[0;34m\u001b[0m\u001b[0m\n",
      "\u001b[0;32m/opt/conda/lib/python3.8/site-packages/matplotlib/artist.py\u001b[0m in \u001b[0;36m_update_property\u001b[0;34m(self, k, v)\u001b[0m\n\u001b[1;32m    999\u001b[0m                 \u001b[0mfunc\u001b[0m \u001b[0;34m=\u001b[0m \u001b[0mgetattr\u001b[0m\u001b[0;34m(\u001b[0m\u001b[0mself\u001b[0m\u001b[0;34m,\u001b[0m \u001b[0;34m'set_'\u001b[0m \u001b[0;34m+\u001b[0m \u001b[0mk\u001b[0m\u001b[0;34m,\u001b[0m \u001b[0;32mNone\u001b[0m\u001b[0;34m)\u001b[0m\u001b[0;34m\u001b[0m\u001b[0;34m\u001b[0m\u001b[0m\n\u001b[1;32m   1000\u001b[0m                 \u001b[0;32mif\u001b[0m \u001b[0;32mnot\u001b[0m \u001b[0mcallable\u001b[0m\u001b[0;34m(\u001b[0m\u001b[0mfunc\u001b[0m\u001b[0;34m)\u001b[0m\u001b[0;34m:\u001b[0m\u001b[0;34m\u001b[0m\u001b[0;34m\u001b[0m\u001b[0m\n\u001b[0;32m-> 1001\u001b[0;31m                     raise AttributeError('{!r} object has no property {!r}'\n\u001b[0m\u001b[1;32m   1002\u001b[0m                                          .format(type(self).__name__, k))\n\u001b[1;32m   1003\u001b[0m                 \u001b[0;32mreturn\u001b[0m \u001b[0mfunc\u001b[0m\u001b[0;34m(\u001b[0m\u001b[0mv\u001b[0m\u001b[0;34m)\u001b[0m\u001b[0;34m\u001b[0m\u001b[0;34m\u001b[0m\u001b[0m\n",
      "\u001b[0;31mAttributeError\u001b[0m: 'PatchCollection' object has no property 'x'"
     ]
    },
    {
     "data": {
      "image/png": "[encoded data removed]",
      "text/plain": [
       "<Figure size 432x288 with 1 Axes>"
      ]
     },
     "metadata": {
      "needs_background": "light"
     },
     "output_type": "display_data"
    }
   ],
   "source": [
    "df_sorted.head(10).plot(x='CC',\n",
    "               y='Vaccines_PCT', \n",
    "               kind='bar')"
   ]
  },
  {
   "cell_type": "markdown",
   "metadata": {},
   "source": [
    "# This ^ is where I got stuck. I googled it and couldn't figure it out :("
   ]
  },
  {
   "cell_type": "code",
   "execution_count": 28,
   "metadata": {},
   "outputs": [
    {
     "data": {
      "text/plain": [
       "<matplotlib.axes._subplots.AxesSubplot at 0x7f6fe9504730>"
      ]
     },
     "execution_count": 28,
     "metadata": {},
     "output_type": "execute_result"
    },
    {
     "data": {
      "image/png": "[encoded data removed]",
      "text/plain": [
       "<Figure size 432x288 with 1 Axes>"
      ]
     },
     "metadata": {
      "needs_background": "light"
     },
     "output_type": "display_data"
    }
   ],
   "source": [
    "#This is just to give me a rough idea of what countries are represented in the dataset.\n",
    "\n",
    "df.plot()"
   ]
  },
  {
   "cell_type": "markdown",
   "metadata": {},
   "source": [
    "Predictably, Europe, the US, Canada and China aren't included."
   ]
  }
 ],
 "metadata": {
  "kernelspec": {
   "display_name": "Python 3",
   "language": "python",
   "name": "python3"
  },
  "language_info": {
   "codemirror_mode": {
    "name": "ipython",
    "version": 3
   },
   "file_extension": ".py",
   "mimetype": "text/x-python",
   "name": "python",
   "nbconvert_exporter": "python",
   "pygments_lexer": "ipython3",
   "version": "3.8.5"
  },
  "toc": {
   "base_numbering": 1,
   "nav_menu": {},
   "number_sections": true,
   "sideBar": true,
   "skip_h1_title": false,
   "title_cell": "Table of Contents",
   "title_sidebar": "Contents",
   "toc_cell": false,
   "toc_position": {},
   "toc_section_display": true,
   "toc_window_display": false
  }
 },
 "nbformat": 4,
 "nbformat_minor": 4
}
