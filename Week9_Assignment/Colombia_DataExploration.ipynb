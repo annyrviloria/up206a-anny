{
 "cells": [
  {
   "cell_type": "markdown",
   "metadata": {},
   "source": [
    "### Week 10 Assignment \n",
    "\n",
    "Anny Rodrigues Viloria - Fall 2020\n",
    "\n",
    "* For this week's assignment I am focusing on exploring the data for the country I am focusing on: Colombia. The data I am using here comes from the Demographic and Health Survey (DHS) made available by the \n",
    "[USAID Spatial Data Repository](http://spatialdata.dhsprogram.com/home/). The survey is conducted every year and I downloaded all the data available from 1985 to 2015."
   ]
  },
  {
   "cell_type": "code",
   "execution_count": null,
   "metadata": {},
   "outputs": [],
   "source": [
    "import geopandas as gpd\n",
    "import pandas as pd"
   ]
  },
  {
   "cell_type": "code",
   "execution_count": null,
   "metadata": {},
   "outputs": [],
   "source": [
    "# importing all my data\n",
    "col_15=gpd.read_file('shps_colombia/sdr_subnational_data_dhs_2015.shp')\n",
    "col_10=gpd.read_file('shps_colombia/sdr_subnational_data_dhs_2010.shp')\n",
    "col_05=gpd.read_file('shps_colombia/sdr_subnational_data_dhs_2005.shp')\n",
    "col_00=gpd.read_file('shps_colombia/sdr_subnational_data_dhs_2000.shp')\n",
    "col_95=gpd.read_file('shps_colombia/sdr_subnational_data_dhs_1995.shp')\n",
    "col_90=gpd.read_file('shps_colombia/sdr_subnational_data_dhs_1990.shp')\n",
    "col_86=gpd.read_file('shps_colombia/sdr_subnational_data_dhs_1986.shp')"
   ]
  },
  {
   "cell_type": "code",
   "execution_count": null,
   "metadata": {},
   "outputs": [],
   "source": [
    "# concatenating the file so it's a single file instead of one per year\n",
    "frames = [col_86,col_90,col_95,col_00,col_05,col_10,col_15]\n",
    "col = pd.concat(frames)"
   ]
  },
  {
   "cell_type": "code",
   "execution_count": null,
   "metadata": {},
   "outputs": [],
   "source": [
    "type(col)"
   ]
  },
  {
   "cell_type": "code",
   "execution_count": null,
   "metadata": {},
   "outputs": [],
   "source": [
    "# i expect to see multiple years in the date column to confirm concatenation worked\n",
    "col.sample(5)"
   ]
  },
  {
   "cell_type": "code",
   "execution_count": null,
   "metadata": {},
   "outputs": [],
   "source": [
    "# to get a sense of the column names, data types, and missing values:\n",
    "col.info(verbose=True, null_counts=True)"
   ]
  },
  {
   "cell_type": "markdown",
   "metadata": {},
   "source": [
    "from the above table I can see there are too many extra colums to i'll proceed to remove them from my dataframe"
   ]
  },
  {
   "cell_type": "code",
   "execution_count": null,
   "metadata": {},
   "outputs": [],
   "source": [
    "df=col[['SVYYEAR','DHSREGSP','CMECMRCIMR','CMECMRCU5M','EDEDUCWSEH','EDLITRWLIT','MMMMROWMMR','MMMMROWPMR','MMMMRTWFDM','MMMMRTWFDP','MMMMRTWMDT','MMMMRTWPDT','RHDELPCDHF','geometry']]"
   ]
  },
  {
   "cell_type": "code",
   "execution_count": null,
   "metadata": {},
   "outputs": [],
   "source": [
    "df.sample(10)"
   ]
  },
  {
   "cell_type": "markdown",
   "metadata": {},
   "source": [
    "well, this is a bummer. most of my columns are empty. however, there is data for infant mortality rate, under-5 mortality, women's education, and women's place of delivery. two of these columns are the primary outcomes of interest for my project which is great, but i will need to find maternal mortality data elsewhere. for now, i'll cut down the columsns again and work to visualize that data."
   ]
  },
  {
   "cell_type": "code",
   "execution_count": null,
   "metadata": {},
   "outputs": [],
   "source": [
    "df=col[['SVYYEAR','DHSREGSP','CMECMRCIMR','CMECMRCU5M','EDEDUCWSEH','RHDELPCDHF','geometry']]\n",
    "df.columns=['year','region','infantmort','u5mort','womened','birthplace','geometry']\n",
    "df.sample(5)"
   ]
  },
  {
   "cell_type": "code",
   "execution_count": null,
   "metadata": {},
   "outputs": [],
   "source": [
    "#sorting dataframe by year\n",
    "df.sort_values(by='year',ascending=True)"
   ]
  },
  {
   "cell_type": "markdown",
   "metadata": {},
   "source": [
    "two things to note here: the index needs to be reset, and the older DHS surveys do not contain data on women's m education or place of delivery. this feels counterintuitive as i would have expected to have more social outcomes reported in the past than today, when i assume these indicators to be overall high."
   ]
  },
  {
   "cell_type": "code",
   "execution_count": null,
   "metadata": {},
   "outputs": [],
   "source": [
    "df.reset_index()"
   ]
  },
  {
   "cell_type": "markdown",
   "metadata": {},
   "source": [
    "### data visualizations"
   ]
  },
  {
   "cell_type": "code",
   "execution_count": null,
   "metadata": {},
   "outputs": [],
   "source": [
    "import seaborn as sns\n",
    "import ipywidgets as widgets\n",
    "from ipywidgets import interact, interact_manual"
   ]
  },
  {
   "cell_type": "code",
   "execution_count": null,
   "metadata": {},
   "outputs": [],
   "source": [
    "# becuase i want to create an interactive map, i will start by listing the fields i want to use for the @interact function\n",
    "year_list = df.year.unique().tolist()\n",
    "year_list"
   ]
  },
  {
   "cell_type": "code",
   "execution_count": null,
   "metadata": {},
   "outputs": [],
   "source": [
    "region_list = df.region.unique().tolist()\n",
    "region_list"
   ]
  },
  {
   "cell_type": "code",
   "execution_count": null,
   "metadata": {},
   "outputs": [],
   "source": [
    "indicator_list = ['infantmort','u5mort','womened','birthplace']"
   ]
  },
  {
   "cell_type": "code",
   "execution_count": null,
   "metadata": {},
   "outputs": [],
   "source": [
    "# reproject\n",
    "df = df.to_crs('EPSG:3857')\n",
    "# get the centroid x and y's into their own columns\n",
    "df['x'] = df.geometry.centroid.x\n",
    "df['y'] = df.geometry.centroid.y"
   ]
  },
  {
   "cell_type": "code",
   "execution_count": null,
   "metadata": {},
   "outputs": [],
   "source": [
    "# import pyplot and contextily\n",
    "import matplotlib.pyplot as plt\n",
    "import contextily as ctx"
   ]
  },
  {
   "cell_type": "code",
   "execution_count": null,
   "metadata": {},
   "outputs": [],
   "source": [
    "@interact\n",
    "\n",
    "def viz_by(indicator=indicator_list, year=year_list):\n",
    "    #Set up figure and axis\n",
    "    f, ax = plt.subplots(1, figsize=(20,10))\n",
    "    #map\n",
    "    df.plot(figsize=(50,50),\n",
    "                 column=indicator,\n",
    "                 legend=True, \n",
    "                 scheme='NaturalBreaks',\n",
    "                 ax=ax)\n",
    "\n",
    "    # axis\n",
    "    ax.axis('off')\n",
    "\n",
    "    # basemap\n",
    "    ctx.add_basemap(ax,source=ctx.providers.CartoDB.Voyager)"
   ]
  },
  {
   "cell_type": "markdown",
   "metadata": {},
   "source": [
    "I wasn't sure what to do to incorporate the year dropdown, i tried a million combinations and nothing seemed to work."
   ]
  },
  {
   "cell_type": "code",
   "execution_count": null,
   "metadata": {},
   "outputs": [],
   "source": [
    "# Set up figure and axis\n",
    "f, ax = plt.subplots(1, figsize=(10,10))\n",
    "\n",
    "# kdeplot, i.e. heat map\n",
    "sns.kdeplot(x = df.x, \n",
    "            y = df.y,\n",
    "            n_levels=100, #number of circles\n",
    "            shade=True,\n",
    "            thresh=0.05, #this is what % of circles if shown, in this case 1-.05=95% of data dropped\n",
    "            alpha=0.2, #this is opacity of the color\n",
    "            cmap='Reds')\n",
    "\n",
    "# axes\n",
    "ax.axis('off')\n",
    "\n",
    "# basemap\n",
    "ctx.add_basemap(ax,source=ctx.providers.CartoDB.DarkMatter)"
   ]
  },
  {
   "cell_type": "markdown",
   "metadata": {},
   "source": [
    "i think the above map doesn't atually tell much because i would first need to cut the dataframe to have one indicator only. i'll be working on this and include it on the final project."
   ]
  }
 ],
 "metadata": {
  "kernelspec": {
   "display_name": "Python 3",
   "language": "python",
   "name": "python3"
  },
  "language_info": {
   "codemirror_mode": {
    "name": "ipython",
    "version": 3
   },
   "file_extension": ".py",
   "mimetype": "text/x-python",
   "name": "python",
   "nbconvert_exporter": "python",
   "pygments_lexer": "ipython3",
   "version": "3.8.5"
  },
  "toc": {
   "base_numbering": 1,
   "nav_menu": {},
   "number_sections": true,
   "sideBar": true,
   "skip_h1_title": false,
   "title_cell": "Table of Contents",
   "title_sidebar": "Contents",
   "toc_cell": false,
   "toc_position": {},
   "toc_section_display": true,
   "toc_window_display": false
  }
 },
 "nbformat": 4,
 "nbformat_minor": 4
}
