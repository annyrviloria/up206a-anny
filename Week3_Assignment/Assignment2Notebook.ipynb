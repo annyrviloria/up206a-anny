{
 "cells": [
  {
   "cell_type": "markdown",
   "metadata": {},
   "source": [
    "# Assignment 2: Data Exploration\n",
    "\n",
    "**Anny Rodriguez Viloria  -  UP206A - Fall 2020**\n",
    "\n",
    "For this assignment I downloaded a subset from the 2015 World Development Indicators from Social Explorer. I am going to focus on creatingc tables and figures an basic demographic indicators. My research question needs some cleaning up and focus and cheking the availability of data is a good place to start narrowing down my focus."
   ]
  },
  {
   "cell_type": "code",
   "execution_count": 18,
   "metadata": {},
   "outputs": [],
   "source": [
    "#first, i am importing the pandas library\n",
    "import pandas as pd \n",
    "import geopandas as gpd"
   ]
  },
  {
   "cell_type": "code",
   "execution_count": 6,
   "metadata": {},
   "outputs": [],
   "source": [
    "#and next i am importing the data file i already downloaded and saved to the same folder this notebook is in\n",
    "df = pd.read_csv('WorldDevInd2015.csv')"
   ]
  },
  {
   "cell_type": "code",
   "execution_count": 19,
   "metadata": {},
   "outputs": [
    {
     "data": {
      "text/plain": [
       "pandas.core.frame.DataFrame"
      ]
     },
     "execution_count": 19,
     "metadata": {},
     "output_type": "execute_result"
    }
   ],
   "source": [
    "type(df)"
   ]
  },
  {
   "cell_type": "markdown",
   "metadata": {},
   "source": [
    "It doesn't look like this dataframe is geocoded so I'll need to merge this file with the one I used in my homework 1."
   ]
  },
  {
   "cell_type": "markdown",
   "metadata": {},
   "source": [
    "## Data Inspection"
   ]
  },
  {
   "cell_type": "code",
   "execution_count": null,
   "metadata": {},
   "outputs": [],
   "source": [
    "# first i want to know how large my dataset is:\n",
    "df.shape"
   ]
  },
  {
   "cell_type": "code",
   "execution_count": 7,
   "metadata": {
    "scrolled": false
   },
   "outputs": [
    {
     "data": {
      "text/html": [
       "<div>\n",
       "<style scoped>\n",
       "    .dataframe tbody tr th:only-of-type {\n",
       "        vertical-align: middle;\n",
       "    }\n",
       "\n",
       "    .dataframe tbody tr th {\n",
       "        vertical-align: top;\n",
       "    }\n",
       "\n",
       "    .dataframe thead th {\n",
       "        text-align: right;\n",
       "    }\n",
       "</style>\n",
       "<table border=\"1\" class=\"dataframe\">\n",
       "  <thead>\n",
       "    <tr style=\"text-align: right;\">\n",
       "      <th></th>\n",
       "      <th>Geo_FIPS</th>\n",
       "      <th>Geo_NAME</th>\n",
       "      <th>Geo_QNAME</th>\n",
       "      <th>Geo_INCCOUNTRY</th>\n",
       "      <th>SE_T001_001</th>\n",
       "      <th>SE_T150_001</th>\n",
       "      <th>SE_T150_003</th>\n",
       "      <th>SE_T150_002</th>\n",
       "      <th>PCT_SE_T150_003</th>\n",
       "      <th>PCT_SE_T150_002</th>\n",
       "      <th>...</th>\n",
       "      <th>PCT_SE_T004_002</th>\n",
       "      <th>PCT_SE_T004_003</th>\n",
       "      <th>SE_T057_001</th>\n",
       "      <th>SE_T057_002</th>\n",
       "      <th>SE_T057_003</th>\n",
       "      <th>SE_T015_001</th>\n",
       "      <th>SE_T015_002</th>\n",
       "      <th>SE_T015_009</th>\n",
       "      <th>SE_T211_001</th>\n",
       "      <th>SE_T211_002</th>\n",
       "    </tr>\n",
       "  </thead>\n",
       "  <tbody>\n",
       "    <tr>\n",
       "      <th>0</th>\n",
       "      <td>LICAFG</td>\n",
       "      <td>Afghanistan</td>\n",
       "      <td>Afghanistan, Low-income economies</td>\n",
       "      <td>AFG</td>\n",
       "      <td>32526562.0</td>\n",
       "      <td>32526562.0</td>\n",
       "      <td>1.677370e+07</td>\n",
       "      <td>1.575286e+07</td>\n",
       "      <td>51.57</td>\n",
       "      <td>48.43</td>\n",
       "      <td>...</td>\n",
       "      <td>26.70</td>\n",
       "      <td>73.30</td>\n",
       "      <td>36242.0</td>\n",
       "      <td>67399.0</td>\n",
       "      <td>94261.0</td>\n",
       "      <td>35.5</td>\n",
       "      <td>66.3</td>\n",
       "      <td>91.1</td>\n",
       "      <td>4300.0</td>\n",
       "      <td>396.0</td>\n",
       "    </tr>\n",
       "    <tr>\n",
       "      <th>1</th>\n",
       "      <td>LICBDI</td>\n",
       "      <td>Burundi</td>\n",
       "      <td>Burundi, Low-income economies</td>\n",
       "      <td>BDI</td>\n",
       "      <td>11178921.0</td>\n",
       "      <td>11178921.0</td>\n",
       "      <td>5.524232e+06</td>\n",
       "      <td>5.654689e+06</td>\n",
       "      <td>49.42</td>\n",
       "      <td>50.58</td>\n",
       "      <td>...</td>\n",
       "      <td>12.06</td>\n",
       "      <td>87.94</td>\n",
       "      <td>13236.0</td>\n",
       "      <td>24956.0</td>\n",
       "      <td>36970.0</td>\n",
       "      <td>28.6</td>\n",
       "      <td>54.1</td>\n",
       "      <td>81.7</td>\n",
       "      <td>3500.0</td>\n",
       "      <td>712.0</td>\n",
       "    </tr>\n",
       "    <tr>\n",
       "      <th>2</th>\n",
       "      <td>LICBEN</td>\n",
       "      <td>Benin</td>\n",
       "      <td>Benin, Low-income economies</td>\n",
       "      <td>BEN</td>\n",
       "      <td>10879829.0</td>\n",
       "      <td>10879829.0</td>\n",
       "      <td>5.425949e+06</td>\n",
       "      <td>5.453880e+06</td>\n",
       "      <td>49.87</td>\n",
       "      <td>50.13</td>\n",
       "      <td>...</td>\n",
       "      <td>43.95</td>\n",
       "      <td>56.05</td>\n",
       "      <td>11955.0</td>\n",
       "      <td>24069.0</td>\n",
       "      <td>37092.0</td>\n",
       "      <td>31.8</td>\n",
       "      <td>64.2</td>\n",
       "      <td>99.5</td>\n",
       "      <td>1600.0</td>\n",
       "      <td>405.0</td>\n",
       "    </tr>\n",
       "    <tr>\n",
       "      <th>3</th>\n",
       "      <td>LICBFA</td>\n",
       "      <td>Burkina Faso</td>\n",
       "      <td>Burkina Faso, Low-income economies</td>\n",
       "      <td>BFA</td>\n",
       "      <td>18105570.0</td>\n",
       "      <td>18105570.0</td>\n",
       "      <td>8.984175e+06</td>\n",
       "      <td>9.121395e+06</td>\n",
       "      <td>49.62</td>\n",
       "      <td>50.38</td>\n",
       "      <td>...</td>\n",
       "      <td>29.86</td>\n",
       "      <td>70.14</td>\n",
       "      <td>18346.0</td>\n",
       "      <td>41810.0</td>\n",
       "      <td>60477.0</td>\n",
       "      <td>26.7</td>\n",
       "      <td>60.9</td>\n",
       "      <td>88.6</td>\n",
       "      <td>2700.0</td>\n",
       "      <td>371.0</td>\n",
       "    </tr>\n",
       "    <tr>\n",
       "      <th>4</th>\n",
       "      <td>LICCAF</td>\n",
       "      <td>Central African Republic</td>\n",
       "      <td>Central African Republic, Low-income economies</td>\n",
       "      <td>CAF</td>\n",
       "      <td>4900274.0</td>\n",
       "      <td>4900274.0</td>\n",
       "      <td>2.415418e+06</td>\n",
       "      <td>2.484856e+06</td>\n",
       "      <td>49.29</td>\n",
       "      <td>50.71</td>\n",
       "      <td>...</td>\n",
       "      <td>40.04</td>\n",
       "      <td>59.96</td>\n",
       "      <td>6993.0</td>\n",
       "      <td>14981.0</td>\n",
       "      <td>21029.0</td>\n",
       "      <td>42.6</td>\n",
       "      <td>91.5</td>\n",
       "      <td>130.1</td>\n",
       "      <td>1400.0</td>\n",
       "      <td>882.0</td>\n",
       "    </tr>\n",
       "    <tr>\n",
       "      <th>5</th>\n",
       "      <td>LICCOD</td>\n",
       "      <td>Congo, DRC</td>\n",
       "      <td>Congo, DRC, Low-income economies</td>\n",
       "      <td>COD</td>\n",
       "      <td>77266814.0</td>\n",
       "      <td>77266814.0</td>\n",
       "      <td>3.853313e+07</td>\n",
       "      <td>3.873368e+07</td>\n",
       "      <td>49.87</td>\n",
       "      <td>50.13</td>\n",
       "      <td>...</td>\n",
       "      <td>42.49</td>\n",
       "      <td>57.51</td>\n",
       "      <td>94252.0</td>\n",
       "      <td>233339.0</td>\n",
       "      <td>304558.0</td>\n",
       "      <td>30.1</td>\n",
       "      <td>74.5</td>\n",
       "      <td>98.3</td>\n",
       "      <td>22000.0</td>\n",
       "      <td>693.0</td>\n",
       "    </tr>\n",
       "    <tr>\n",
       "      <th>6</th>\n",
       "      <td>LICCOM</td>\n",
       "      <td>Comoros</td>\n",
       "      <td>Comoros, Low-income economies</td>\n",
       "      <td>COM</td>\n",
       "      <td>788474.0</td>\n",
       "      <td>788474.0</td>\n",
       "      <td>3.977000e+05</td>\n",
       "      <td>3.907740e+05</td>\n",
       "      <td>50.44</td>\n",
       "      <td>49.56</td>\n",
       "      <td>...</td>\n",
       "      <td>28.30</td>\n",
       "      <td>71.70</td>\n",
       "      <td>889.0</td>\n",
       "      <td>1433.0</td>\n",
       "      <td>1897.0</td>\n",
       "      <td>34.0</td>\n",
       "      <td>55.1</td>\n",
       "      <td>73.5</td>\n",
       "      <td>88.0</td>\n",
       "      <td>335.0</td>\n",
       "    </tr>\n",
       "    <tr>\n",
       "      <th>7</th>\n",
       "      <td>LICERI</td>\n",
       "      <td>Eritrea</td>\n",
       "      <td>Eritrea, Low-income economies</td>\n",
       "      <td>ERI</td>\n",
       "      <td>NaN</td>\n",
       "      <td>NaN</td>\n",
       "      <td>NaN</td>\n",
       "      <td>NaN</td>\n",
       "      <td>NaN</td>\n",
       "      <td>NaN</td>\n",
       "      <td>...</td>\n",
       "      <td>NaN</td>\n",
       "      <td>NaN</td>\n",
       "      <td>3056.0</td>\n",
       "      <td>5652.0</td>\n",
       "      <td>7764.0</td>\n",
       "      <td>18.4</td>\n",
       "      <td>34.1</td>\n",
       "      <td>46.5</td>\n",
       "      <td>880.0</td>\n",
       "      <td>501.0</td>\n",
       "    </tr>\n",
       "    <tr>\n",
       "      <th>8</th>\n",
       "      <td>LICETH</td>\n",
       "      <td>Ethiopia</td>\n",
       "      <td>Ethiopia, Low-income economies</td>\n",
       "      <td>ETH</td>\n",
       "      <td>99390750.0</td>\n",
       "      <td>99390750.0</td>\n",
       "      <td>4.960761e+07</td>\n",
       "      <td>4.978314e+07</td>\n",
       "      <td>49.91</td>\n",
       "      <td>50.09</td>\n",
       "      <td>...</td>\n",
       "      <td>19.47</td>\n",
       "      <td>80.53</td>\n",
       "      <td>87414.0</td>\n",
       "      <td>129947.0</td>\n",
       "      <td>184186.0</td>\n",
       "      <td>27.7</td>\n",
       "      <td>41.4</td>\n",
       "      <td>59.2</td>\n",
       "      <td>11000.0</td>\n",
       "      <td>353.0</td>\n",
       "    </tr>\n",
       "    <tr>\n",
       "      <th>9</th>\n",
       "      <td>LICGIN</td>\n",
       "      <td>Guinea</td>\n",
       "      <td>Guinea, Low-income economies</td>\n",
       "      <td>GIN</td>\n",
       "      <td>12608590.0</td>\n",
       "      <td>12608590.0</td>\n",
       "      <td>6.322237e+06</td>\n",
       "      <td>6.286353e+06</td>\n",
       "      <td>50.14</td>\n",
       "      <td>49.86</td>\n",
       "      <td>...</td>\n",
       "      <td>37.16</td>\n",
       "      <td>62.84</td>\n",
       "      <td>14288.0</td>\n",
       "      <td>27757.0</td>\n",
       "      <td>42073.0</td>\n",
       "      <td>31.3</td>\n",
       "      <td>61.0</td>\n",
       "      <td>93.7</td>\n",
       "      <td>3100.0</td>\n",
       "      <td>679.0</td>\n",
       "    </tr>\n",
       "  </tbody>\n",
       "</table>\n",
       "<p>10 rows × 30 columns</p>\n",
       "</div>"
      ],
      "text/plain": [
       "  Geo_FIPS                  Geo_NAME  \\\n",
       "0   LICAFG               Afghanistan   \n",
       "1   LICBDI                   Burundi   \n",
       "2   LICBEN                     Benin   \n",
       "3   LICBFA              Burkina Faso   \n",
       "4   LICCAF  Central African Republic   \n",
       "5   LICCOD                Congo, DRC   \n",
       "6   LICCOM                   Comoros   \n",
       "7   LICERI                   Eritrea   \n",
       "8   LICETH                  Ethiopia   \n",
       "9   LICGIN                    Guinea   \n",
       "\n",
       "                                        Geo_QNAME Geo_INCCOUNTRY  SE_T001_001  \\\n",
       "0               Afghanistan, Low-income economies            AFG   32526562.0   \n",
       "1                   Burundi, Low-income economies            BDI   11178921.0   \n",
       "2                     Benin, Low-income economies            BEN   10879829.0   \n",
       "3              Burkina Faso, Low-income economies            BFA   18105570.0   \n",
       "4  Central African Republic, Low-income economies            CAF    4900274.0   \n",
       "5                Congo, DRC, Low-income economies            COD   77266814.0   \n",
       "6                   Comoros, Low-income economies            COM     788474.0   \n",
       "7                   Eritrea, Low-income economies            ERI          NaN   \n",
       "8                  Ethiopia, Low-income economies            ETH   99390750.0   \n",
       "9                    Guinea, Low-income economies            GIN   12608590.0   \n",
       "\n",
       "   SE_T150_001   SE_T150_003   SE_T150_002  PCT_SE_T150_003  PCT_SE_T150_002  \\\n",
       "0   32526562.0  1.677370e+07  1.575286e+07            51.57            48.43   \n",
       "1   11178921.0  5.524232e+06  5.654689e+06            49.42            50.58   \n",
       "2   10879829.0  5.425949e+06  5.453880e+06            49.87            50.13   \n",
       "3   18105570.0  8.984175e+06  9.121395e+06            49.62            50.38   \n",
       "4    4900274.0  2.415418e+06  2.484856e+06            49.29            50.71   \n",
       "5   77266814.0  3.853313e+07  3.873368e+07            49.87            50.13   \n",
       "6     788474.0  3.977000e+05  3.907740e+05            50.44            49.56   \n",
       "7          NaN           NaN           NaN              NaN              NaN   \n",
       "8   99390750.0  4.960761e+07  4.978314e+07            49.91            50.09   \n",
       "9   12608590.0  6.322237e+06  6.286353e+06            50.14            49.86   \n",
       "\n",
       "   ...  PCT_SE_T004_002  PCT_SE_T004_003  SE_T057_001  SE_T057_002  \\\n",
       "0  ...            26.70            73.30      36242.0      67399.0   \n",
       "1  ...            12.06            87.94      13236.0      24956.0   \n",
       "2  ...            43.95            56.05      11955.0      24069.0   \n",
       "3  ...            29.86            70.14      18346.0      41810.0   \n",
       "4  ...            40.04            59.96       6993.0      14981.0   \n",
       "5  ...            42.49            57.51      94252.0     233339.0   \n",
       "6  ...            28.30            71.70        889.0       1433.0   \n",
       "7  ...              NaN              NaN       3056.0       5652.0   \n",
       "8  ...            19.47            80.53      87414.0     129947.0   \n",
       "9  ...            37.16            62.84      14288.0      27757.0   \n",
       "\n",
       "   SE_T057_003  SE_T015_001  SE_T015_002  SE_T015_009  SE_T211_001  \\\n",
       "0      94261.0         35.5         66.3         91.1       4300.0   \n",
       "1      36970.0         28.6         54.1         81.7       3500.0   \n",
       "2      37092.0         31.8         64.2         99.5       1600.0   \n",
       "3      60477.0         26.7         60.9         88.6       2700.0   \n",
       "4      21029.0         42.6         91.5        130.1       1400.0   \n",
       "5     304558.0         30.1         74.5         98.3      22000.0   \n",
       "6       1897.0         34.0         55.1         73.5         88.0   \n",
       "7       7764.0         18.4         34.1         46.5        880.0   \n",
       "8     184186.0         27.7         41.4         59.2      11000.0   \n",
       "9      42073.0         31.3         61.0         93.7       3100.0   \n",
       "\n",
       "   SE_T211_002  \n",
       "0        396.0  \n",
       "1        712.0  \n",
       "2        405.0  \n",
       "3        371.0  \n",
       "4        882.0  \n",
       "5        693.0  \n",
       "6        335.0  \n",
       "7        501.0  \n",
       "8        353.0  \n",
       "9        679.0  \n",
       "\n",
       "[10 rows x 30 columns]"
      ]
     },
     "execution_count": 7,
     "metadata": {},
     "output_type": "execute_result"
    }
   ],
   "source": [
    "# and also what my data looks like:\n",
    "df.head(10)"
   ]
  },
  {
   "cell_type": "code",
   "execution_count": 8,
   "metadata": {},
   "outputs": [
    {
     "data": {
      "text/html": [
       "<div>\n",
       "<style scoped>\n",
       "    .dataframe tbody tr th:only-of-type {\n",
       "        vertical-align: middle;\n",
       "    }\n",
       "\n",
       "    .dataframe tbody tr th {\n",
       "        vertical-align: top;\n",
       "    }\n",
       "\n",
       "    .dataframe thead th {\n",
       "        text-align: right;\n",
       "    }\n",
       "</style>\n",
       "<table border=\"1\" class=\"dataframe\">\n",
       "  <thead>\n",
       "    <tr style=\"text-align: right;\">\n",
       "      <th></th>\n",
       "      <th>Geo_FIPS</th>\n",
       "      <th>Geo_NAME</th>\n",
       "      <th>Geo_QNAME</th>\n",
       "      <th>Geo_INCCOUNTRY</th>\n",
       "      <th>SE_T001_001</th>\n",
       "      <th>SE_T150_001</th>\n",
       "      <th>SE_T150_003</th>\n",
       "      <th>SE_T150_002</th>\n",
       "      <th>PCT_SE_T150_003</th>\n",
       "      <th>PCT_SE_T150_002</th>\n",
       "      <th>...</th>\n",
       "      <th>PCT_SE_T004_002</th>\n",
       "      <th>PCT_SE_T004_003</th>\n",
       "      <th>SE_T057_001</th>\n",
       "      <th>SE_T057_002</th>\n",
       "      <th>SE_T057_003</th>\n",
       "      <th>SE_T015_001</th>\n",
       "      <th>SE_T015_002</th>\n",
       "      <th>SE_T015_009</th>\n",
       "      <th>SE_T211_001</th>\n",
       "      <th>SE_T211_002</th>\n",
       "    </tr>\n",
       "  </thead>\n",
       "  <tbody>\n",
       "    <tr>\n",
       "      <th>130</th>\n",
       "      <td>UMCTUN</td>\n",
       "      <td>Tunisia</td>\n",
       "      <td>Tunisia, Upper-middle-income economies</td>\n",
       "      <td>TUN</td>\n",
       "      <td>11107800.00</td>\n",
       "      <td>11107800.00</td>\n",
       "      <td>5.489059e+06</td>\n",
       "      <td>5.618741e+06</td>\n",
       "      <td>49.42</td>\n",
       "      <td>50.58</td>\n",
       "      <td>...</td>\n",
       "      <td>66.84</td>\n",
       "      <td>33.16</td>\n",
       "      <td>1724.0</td>\n",
       "      <td>2546.0</td>\n",
       "      <td>2919.0</td>\n",
       "      <td>8.2</td>\n",
       "      <td>12.1</td>\n",
       "      <td>14.0</td>\n",
       "      <td>130.0</td>\n",
       "      <td>62.0</td>\n",
       "    </tr>\n",
       "    <tr>\n",
       "      <th>131</th>\n",
       "      <td>UMCTUR</td>\n",
       "      <td>Turkey</td>\n",
       "      <td>Turkey, Upper-middle-income economies</td>\n",
       "      <td>TUR</td>\n",
       "      <td>78665830.00</td>\n",
       "      <td>78665830.00</td>\n",
       "      <td>3.867456e+07</td>\n",
       "      <td>3.999127e+07</td>\n",
       "      <td>49.16</td>\n",
       "      <td>50.84</td>\n",
       "      <td>...</td>\n",
       "      <td>73.40</td>\n",
       "      <td>26.60</td>\n",
       "      <td>9980.0</td>\n",
       "      <td>16325.0</td>\n",
       "      <td>18936.0</td>\n",
       "      <td>7.1</td>\n",
       "      <td>11.6</td>\n",
       "      <td>13.5</td>\n",
       "      <td>210.0</td>\n",
       "      <td>16.0</td>\n",
       "    </tr>\n",
       "    <tr>\n",
       "      <th>132</th>\n",
       "      <td>UMCTUV</td>\n",
       "      <td>Tuvalu</td>\n",
       "      <td>Tuvalu, Upper-middle-income economies</td>\n",
       "      <td>TUV</td>\n",
       "      <td>9916.00</td>\n",
       "      <td>9916.00</td>\n",
       "      <td>NaN</td>\n",
       "      <td>NaN</td>\n",
       "      <td>NaN</td>\n",
       "      <td>NaN</td>\n",
       "      <td>...</td>\n",
       "      <td>59.72</td>\n",
       "      <td>40.28</td>\n",
       "      <td>4.0</td>\n",
       "      <td>5.0</td>\n",
       "      <td>6.0</td>\n",
       "      <td>17.6</td>\n",
       "      <td>22.8</td>\n",
       "      <td>27.1</td>\n",
       "      <td>NaN</td>\n",
       "      <td>NaN</td>\n",
       "    </tr>\n",
       "    <tr>\n",
       "      <th>133</th>\n",
       "      <td>UMCVCT</td>\n",
       "      <td>St. Vincent and the Grenadines</td>\n",
       "      <td>St. Vincent and the Grenadines, Upper-middle-i...</td>\n",
       "      <td>VCT</td>\n",
       "      <td>109462.00</td>\n",
       "      <td>109462.00</td>\n",
       "      <td>5.523200e+04</td>\n",
       "      <td>5.423000e+04</td>\n",
       "      <td>50.46</td>\n",
       "      <td>49.54</td>\n",
       "      <td>...</td>\n",
       "      <td>50.55</td>\n",
       "      <td>49.45</td>\n",
       "      <td>19.0</td>\n",
       "      <td>27.0</td>\n",
       "      <td>30.0</td>\n",
       "      <td>11.5</td>\n",
       "      <td>16.6</td>\n",
       "      <td>18.3</td>\n",
       "      <td>1.0</td>\n",
       "      <td>45.0</td>\n",
       "    </tr>\n",
       "    <tr>\n",
       "      <th>134</th>\n",
       "      <td>UMCZAF</td>\n",
       "      <td>South Africa</td>\n",
       "      <td>South Africa, Upper-middle-income economies</td>\n",
       "      <td>ZAF</td>\n",
       "      <td>54956920.37</td>\n",
       "      <td>54956920.37</td>\n",
       "      <td>2.702668e+07</td>\n",
       "      <td>2.793024e+07</td>\n",
       "      <td>49.18</td>\n",
       "      <td>50.82</td>\n",
       "      <td>...</td>\n",
       "      <td>64.80</td>\n",
       "      <td>35.20</td>\n",
       "      <td>11141.0</td>\n",
       "      <td>34078.0</td>\n",
       "      <td>41930.0</td>\n",
       "      <td>11.0</td>\n",
       "      <td>33.6</td>\n",
       "      <td>40.5</td>\n",
       "      <td>1500.0</td>\n",
       "      <td>138.0</td>\n",
       "    </tr>\n",
       "  </tbody>\n",
       "</table>\n",
       "<p>5 rows × 30 columns</p>\n",
       "</div>"
      ],
      "text/plain": [
       "    Geo_FIPS                        Geo_NAME  \\\n",
       "130   UMCTUN                         Tunisia   \n",
       "131   UMCTUR                          Turkey   \n",
       "132   UMCTUV                          Tuvalu   \n",
       "133   UMCVCT  St. Vincent and the Grenadines   \n",
       "134   UMCZAF                    South Africa   \n",
       "\n",
       "                                             Geo_QNAME Geo_INCCOUNTRY  \\\n",
       "130             Tunisia, Upper-middle-income economies            TUN   \n",
       "131              Turkey, Upper-middle-income economies            TUR   \n",
       "132              Tuvalu, Upper-middle-income economies            TUV   \n",
       "133  St. Vincent and the Grenadines, Upper-middle-i...            VCT   \n",
       "134        South Africa, Upper-middle-income economies            ZAF   \n",
       "\n",
       "     SE_T001_001  SE_T150_001   SE_T150_003   SE_T150_002  PCT_SE_T150_003  \\\n",
       "130  11107800.00  11107800.00  5.489059e+06  5.618741e+06            49.42   \n",
       "131  78665830.00  78665830.00  3.867456e+07  3.999127e+07            49.16   \n",
       "132      9916.00      9916.00           NaN           NaN              NaN   \n",
       "133    109462.00    109462.00  5.523200e+04  5.423000e+04            50.46   \n",
       "134  54956920.37  54956920.37  2.702668e+07  2.793024e+07            49.18   \n",
       "\n",
       "     PCT_SE_T150_002  ...  PCT_SE_T004_002  PCT_SE_T004_003  SE_T057_001  \\\n",
       "130            50.58  ...            66.84            33.16       1724.0   \n",
       "131            50.84  ...            73.40            26.60       9980.0   \n",
       "132              NaN  ...            59.72            40.28          4.0   \n",
       "133            49.54  ...            50.55            49.45         19.0   \n",
       "134            50.82  ...            64.80            35.20      11141.0   \n",
       "\n",
       "     SE_T057_002  SE_T057_003  SE_T015_001  SE_T015_002  SE_T015_009  \\\n",
       "130       2546.0       2919.0          8.2         12.1         14.0   \n",
       "131      16325.0      18936.0          7.1         11.6         13.5   \n",
       "132          5.0          6.0         17.6         22.8         27.1   \n",
       "133         27.0         30.0         11.5         16.6         18.3   \n",
       "134      34078.0      41930.0         11.0         33.6         40.5   \n",
       "\n",
       "     SE_T211_001  SE_T211_002  \n",
       "130        130.0         62.0  \n",
       "131        210.0         16.0  \n",
       "132          NaN          NaN  \n",
       "133          1.0         45.0  \n",
       "134       1500.0        138.0  \n",
       "\n",
       "[5 rows x 30 columns]"
      ]
     },
     "execution_count": 8,
     "metadata": {},
     "output_type": "execute_result"
    }
   ],
   "source": [
    "df.tail()"
   ]
  },
  {
   "cell_type": "code",
   "execution_count": 9,
   "metadata": {
    "scrolled": true
   },
   "outputs": [
    {
     "name": "stdout",
     "output_type": "stream",
     "text": [
      "<class 'pandas.core.frame.DataFrame'>\n",
      "RangeIndex: 135 entries, 0 to 134\n",
      "Data columns (total 30 columns):\n",
      " #   Column           Non-Null Count  Dtype  \n",
      "---  ------           --------------  -----  \n",
      " 0   Geo_FIPS         135 non-null    object \n",
      " 1   Geo_NAME         135 non-null    object \n",
      " 2   Geo_QNAME        135 non-null    object \n",
      " 3   Geo_INCCOUNTRY   135 non-null    object \n",
      " 4   SE_T001_001      134 non-null    float64\n",
      " 5   SE_T150_001      134 non-null    float64\n",
      " 6   SE_T150_003      129 non-null    float64\n",
      " 7   SE_T150_002      129 non-null    float64\n",
      " 8   PCT_SE_T150_003  129 non-null    float64\n",
      " 9   PCT_SE_T150_002  129 non-null    float64\n",
      " 10  SE_T151_001      134 non-null    float64\n",
      " 11  SE_T151_002      129 non-null    float64\n",
      " 12  SE_T151_003      129 non-null    float64\n",
      " 13  SE_T151_004      129 non-null    float64\n",
      " 14  PCT_SE_T151_002  129 non-null    float64\n",
      " 15  PCT_SE_T151_003  129 non-null    float64\n",
      " 16  PCT_SE_T151_004  129 non-null    float64\n",
      " 17  SE_T004_001      134 non-null    float64\n",
      " 18  SE_T004_002      133 non-null    float64\n",
      " 19  SE_T004_003      133 non-null    float64\n",
      " 20  PCT_SE_T004_002  133 non-null    float64\n",
      " 21  PCT_SE_T004_003  133 non-null    float64\n",
      " 22  SE_T057_001      133 non-null    float64\n",
      " 23  SE_T057_002      133 non-null    float64\n",
      " 24  SE_T057_003      133 non-null    float64\n",
      " 25  SE_T015_001      133 non-null    float64\n",
      " 26  SE_T015_002      133 non-null    float64\n",
      " 27  SE_T015_009      133 non-null    float64\n",
      " 28  SE_T211_001      129 non-null    float64\n",
      " 29  SE_T211_002      129 non-null    float64\n",
      "dtypes: float64(26), object(4)\n",
      "memory usage: 31.8+ KB\n"
     ]
    }
   ],
   "source": [
    "# to get a sense of the column names, data types, and missing values:\n",
    "df.info(verbose=True, null_counts=True)"
   ]
  },
  {
   "cell_type": "markdown",
   "metadata": {},
   "source": [
    "A first look tells me there are not many missing values, but just to make sure:"
   ]
  },
  {
   "cell_type": "code",
   "execution_count": 10,
   "metadata": {},
   "outputs": [
    {
     "data": {
      "text/plain": [
       "[]"
      ]
     },
     "execution_count": 10,
     "metadata": {},
     "output_type": "execute_result"
    }
   ],
   "source": [
    "df.columns[df.isna().all()].tolist()"
   ]
  },
  {
   "cell_type": "markdown",
   "metadata": {},
   "source": [
    "No empty columns! I'll still need to rename the columns to make it easier to manipulate. The Geo_FIPS codes were imported as objects so I'll assume I do not need to change type manually."
   ]
  },
  {
   "cell_type": "markdown",
   "metadata": {},
   "source": [
    "## Data Cleaning"
   ]
  },
  {
   "cell_type": "markdown",
   "metadata": {},
   "source": [
    "From looking at the codebook, I know there are several columns I can delete so I'll start there:"
   ]
  },
  {
   "cell_type": "code",
   "execution_count": 11,
   "metadata": {},
   "outputs": [],
   "source": [
    "columns_to_drop = ['Geo_INCCOUNTRY','SE_T150_001','SE_T150_002','SE_T150_003','SE_T151_001','SE_T151_002','SE_T151_003','SE_T151_004','SE_T004_001','SE_T004_002','SE_T004_003','SE_T057_001','SE_T057_002','SE_T057_003','SE_T211_001']\n",
    "df = df.drop(columns_to_drop,axis=1)"
   ]
  },
  {
   "cell_type": "code",
   "execution_count": 12,
   "metadata": {},
   "outputs": [
    {
     "name": "stdout",
     "output_type": "stream",
     "text": [
      "<class 'pandas.core.frame.DataFrame'>\n",
      "RangeIndex: 135 entries, 0 to 134\n",
      "Data columns (total 15 columns):\n",
      " #   Column           Non-Null Count  Dtype  \n",
      "---  ------           --------------  -----  \n",
      " 0   Geo_FIPS         135 non-null    object \n",
      " 1   Geo_NAME         135 non-null    object \n",
      " 2   Geo_QNAME        135 non-null    object \n",
      " 3   SE_T001_001      134 non-null    float64\n",
      " 4   PCT_SE_T150_003  129 non-null    float64\n",
      " 5   PCT_SE_T150_002  129 non-null    float64\n",
      " 6   PCT_SE_T151_002  129 non-null    float64\n",
      " 7   PCT_SE_T151_003  129 non-null    float64\n",
      " 8   PCT_SE_T151_004  129 non-null    float64\n",
      " 9   PCT_SE_T004_002  133 non-null    float64\n",
      " 10  PCT_SE_T004_003  133 non-null    float64\n",
      " 11  SE_T015_001      133 non-null    float64\n",
      " 12  SE_T015_002      133 non-null    float64\n",
      " 13  SE_T015_009      133 non-null    float64\n",
      " 14  SE_T211_002      129 non-null    float64\n",
      "dtypes: float64(12), object(3)\n",
      "memory usage: 15.9+ KB\n"
     ]
    }
   ],
   "source": [
    "#and to confirm it worked:\n",
    "df.info()"
   ]
  },
  {
   "cell_type": "markdown",
   "metadata": {},
   "source": [
    "We now have 15 instead of the original 30. The next step will be to rename them."
   ]
  },
  {
   "cell_type": "code",
   "execution_count": 13,
   "metadata": {},
   "outputs": [
    {
     "data": {
      "text/plain": [
       "['Geo_FIPS',\n",
       " 'Geo_NAME',\n",
       " 'Geo_QNAME',\n",
       " 'SE_T001_001',\n",
       " 'PCT_SE_T150_003',\n",
       " 'PCT_SE_T150_002',\n",
       " 'PCT_SE_T151_002',\n",
       " 'PCT_SE_T151_003',\n",
       " 'PCT_SE_T151_004',\n",
       " 'PCT_SE_T004_002',\n",
       " 'PCT_SE_T004_003',\n",
       " 'SE_T015_001',\n",
       " 'SE_T015_002',\n",
       " 'SE_T015_009',\n",
       " 'SE_T211_002']"
      ]
     },
     "execution_count": 13,
     "metadata": {},
     "output_type": "execute_result"
    }
   ],
   "source": [
    "df.columns.to_list()"
   ]
  },
  {
   "cell_type": "code",
   "execution_count": 21,
   "metadata": {},
   "outputs": [],
   "source": [
    "df.columns = ['FIPS',\n",
    " 'GEO_country',\n",
    " 'Geo_QNAME',\n",
    " 'TotalPop',\n",
    " 'Male_PCT',\n",
    " 'Female_PCT',\n",
    " 'Pop_u14_PCT',\n",
    " 'Pop_1564_PCT',\n",
    " 'Pop_65up_PCT',\n",
    " 'Rural_PCT',\n",
    " 'Urban_PCT',\n",
    " 'NeonatalMortRate_p1k',\n",
    " 'InfantMortRate_p1k',\n",
    " 'U5MortRate_p1k',              \n",
    " 'MaternalMortRate_p100k']"
   ]
  },
  {
   "cell_type": "code",
   "execution_count": 22,
   "metadata": {},
   "outputs": [
    {
     "data": {
      "text/html": [
       "<div>\n",
       "<style scoped>\n",
       "    .dataframe tbody tr th:only-of-type {\n",
       "        vertical-align: middle;\n",
       "    }\n",
       "\n",
       "    .dataframe tbody tr th {\n",
       "        vertical-align: top;\n",
       "    }\n",
       "\n",
       "    .dataframe thead th {\n",
       "        text-align: right;\n",
       "    }\n",
       "</style>\n",
       "<table border=\"1\" class=\"dataframe\">\n",
       "  <thead>\n",
       "    <tr style=\"text-align: right;\">\n",
       "      <th></th>\n",
       "      <th>FIPS</th>\n",
       "      <th>GEO_country</th>\n",
       "      <th>Geo_QNAME</th>\n",
       "      <th>TotalPop</th>\n",
       "      <th>Male_PCT</th>\n",
       "      <th>Female_PCT</th>\n",
       "      <th>Pop_u14_PCT</th>\n",
       "      <th>Pop_1564_PCT</th>\n",
       "      <th>Pop_65up_PCT</th>\n",
       "      <th>Rural_PCT</th>\n",
       "      <th>Urban_PCT</th>\n",
       "      <th>NeonatalMortRate_p1k</th>\n",
       "      <th>InfantMortRate_p1k</th>\n",
       "      <th>U5MortRate_p1k</th>\n",
       "      <th>MaternalMortRate_p100k</th>\n",
       "    </tr>\n",
       "  </thead>\n",
       "  <tbody>\n",
       "    <tr>\n",
       "      <th>38</th>\n",
       "      <td>LMCCPV</td>\n",
       "      <td>Cabo Verde</td>\n",
       "      <td>Cabo Verde, Lower-middle-income economies</td>\n",
       "      <td>520502.0</td>\n",
       "      <td>49.34</td>\n",
       "      <td>50.66</td>\n",
       "      <td>29.65</td>\n",
       "      <td>65.77</td>\n",
       "      <td>4.58</td>\n",
       "      <td>65.53</td>\n",
       "      <td>34.47</td>\n",
       "      <td>12.2</td>\n",
       "      <td>20.7</td>\n",
       "      <td>24.5</td>\n",
       "      <td>42.0</td>\n",
       "    </tr>\n",
       "  </tbody>\n",
       "</table>\n",
       "</div>"
      ],
      "text/plain": [
       "      FIPS GEO_country                                  Geo_QNAME  TotalPop  \\\n",
       "38  LMCCPV  Cabo Verde  Cabo Verde, Lower-middle-income economies  520502.0   \n",
       "\n",
       "    Male_PCT  Female_PCT  Pop_u14_PCT  Pop_1564_PCT  Pop_65up_PCT  Rural_PCT  \\\n",
       "38     49.34       50.66        29.65         65.77          4.58      65.53   \n",
       "\n",
       "    Urban_PCT  NeonatalMortRate_p1k  InfantMortRate_p1k  U5MortRate_p1k  \\\n",
       "38      34.47                  12.2                20.7            24.5   \n",
       "\n",
       "    MaternalMortRate_p100k  \n",
       "38                    42.0  "
      ]
     },
     "execution_count": 22,
     "metadata": {},
     "output_type": "execute_result"
    }
   ],
   "source": [
    "df.sample()"
   ]
  },
  {
   "cell_type": "code",
   "execution_count": 23,
   "metadata": {},
   "outputs": [
    {
     "data": {
      "text/plain": [
       "FIPS                      0\n",
       "GEO_country               0\n",
       "Geo_QNAME                 0\n",
       "TotalPop                  1\n",
       "Male_PCT                  6\n",
       "Female_PCT                6\n",
       "Pop_u14_PCT               6\n",
       "Pop_1564_PCT              6\n",
       "Pop_65up_PCT              6\n",
       "Rural_PCT                 2\n",
       "Urban_PCT                 2\n",
       "NeonatalMortRate_p1k      2\n",
       "InfantMortRate_p1k        2\n",
       "U5MortRate_p1k            2\n",
       "MaternalMortRate_p100k    6\n",
       "dtype: int64"
      ]
     },
     "execution_count": 23,
     "metadata": {},
     "output_type": "execute_result"
    }
   ],
   "source": [
    "#now to check where the missing values are:\n",
    "df.isna().sum()"
   ]
  },
  {
   "cell_type": "markdown",
   "metadata": {},
   "source": [
    "I will probably not use the countries with missing data in my analysis but I don't need to drop them so I am done cleaning for now."
   ]
  },
  {
   "cell_type": "markdown",
   "metadata": {},
   "source": [
    "## Stats and Plots"
   ]
  },
  {
   "cell_type": "markdown",
   "metadata": {},
   "source": [
    "My goal is to sort my data by each of the four health indicators in my dataset: neonatal mortality rate, infant mortality rate, under 5 mortality rate, and maternal mortality rate. I will generate a plot for the top 10 countries leading these four indicators to visualize any potential overlap in these countries. I am also going to plot the countries with the lowest mortality rates, just to see what the patterns are."
   ]
  },
  {
   "cell_type": "code",
   "execution_count": 37,
   "metadata": {},
   "outputs": [
    {
     "data": {
      "text/html": [
       "<div>\n",
       "<style scoped>\n",
       "    .dataframe tbody tr th:only-of-type {\n",
       "        vertical-align: middle;\n",
       "    }\n",
       "\n",
       "    .dataframe tbody tr th {\n",
       "        vertical-align: top;\n",
       "    }\n",
       "\n",
       "    .dataframe thead th {\n",
       "        text-align: right;\n",
       "    }\n",
       "</style>\n",
       "<table border=\"1\" class=\"dataframe\">\n",
       "  <thead>\n",
       "    <tr style=\"text-align: right;\">\n",
       "      <th></th>\n",
       "      <th>GEO_country</th>\n",
       "      <th>TotalPop</th>\n",
       "      <th>NeonatalMortRate_p1k</th>\n",
       "    </tr>\n",
       "  </thead>\n",
       "  <tbody>\n",
       "    <tr>\n",
       "      <th>82</th>\n",
       "      <td>Angola</td>\n",
       "      <td>25021974.0</td>\n",
       "      <td>48.7</td>\n",
       "    </tr>\n",
       "    <tr>\n",
       "      <th>61</th>\n",
       "      <td>Pakistan</td>\n",
       "      <td>188924874.0</td>\n",
       "      <td>45.5</td>\n",
       "    </tr>\n",
       "    <tr>\n",
       "      <th>4</th>\n",
       "      <td>Central African Republic</td>\n",
       "      <td>4900274.0</td>\n",
       "      <td>42.6</td>\n",
       "    </tr>\n",
       "    <tr>\n",
       "      <th>24</th>\n",
       "      <td>Somalia</td>\n",
       "      <td>10787104.0</td>\n",
       "      <td>39.7</td>\n",
       "    </tr>\n",
       "    <tr>\n",
       "      <th>11</th>\n",
       "      <td>Guinea-Bissau</td>\n",
       "      <td>1844325.0</td>\n",
       "      <td>39.7</td>\n",
       "    </tr>\n",
       "    <tr>\n",
       "      <th>26</th>\n",
       "      <td>Chad</td>\n",
       "      <td>14037472.0</td>\n",
       "      <td>39.3</td>\n",
       "    </tr>\n",
       "    <tr>\n",
       "      <th>25</th>\n",
       "      <td>South Sudan</td>\n",
       "      <td>12339812.0</td>\n",
       "      <td>39.3</td>\n",
       "    </tr>\n",
       "    <tr>\n",
       "      <th>35</th>\n",
       "      <td>Cote d'Ivoire</td>\n",
       "      <td>22701556.0</td>\n",
       "      <td>37.9</td>\n",
       "    </tr>\n",
       "    <tr>\n",
       "      <th>16</th>\n",
       "      <td>Mali</td>\n",
       "      <td>17599694.0</td>\n",
       "      <td>37.8</td>\n",
       "    </tr>\n",
       "    <tr>\n",
       "      <th>58</th>\n",
       "      <td>Mauritania</td>\n",
       "      <td>4067564.0</td>\n",
       "      <td>35.7</td>\n",
       "    </tr>\n",
       "  </tbody>\n",
       "</table>\n",
       "</div>"
      ],
      "text/plain": [
       "                 GEO_country     TotalPop  NeonatalMortRate_p1k\n",
       "82                    Angola   25021974.0                  48.7\n",
       "61                  Pakistan  188924874.0                  45.5\n",
       "4   Central African Republic    4900274.0                  42.6\n",
       "24                   Somalia   10787104.0                  39.7\n",
       "11             Guinea-Bissau    1844325.0                  39.7\n",
       "26                      Chad   14037472.0                  39.3\n",
       "25               South Sudan   12339812.0                  39.3\n",
       "35             Cote d'Ivoire   22701556.0                  37.9\n",
       "16                      Mali   17599694.0                  37.8\n",
       "58                Mauritania    4067564.0                  35.7"
      ]
     },
     "execution_count": 37,
     "metadata": {},
     "output_type": "execute_result"
    }
   ],
   "source": [
    "# first, sort by 10 highest neonatal mortality rates\n",
    "df_neonatal = df.sort_values(by='NeonatalMortRate_p1k',ascending=False)\n",
    "df_neonatal[['GEO_country','TotalPop','NeonatalMortRate_p1k']].head(10)"
   ]
  },
  {
   "cell_type": "code",
   "execution_count": 25,
   "metadata": {},
   "outputs": [
    {
     "data": {
      "text/plain": [
       "<matplotlib.axes._subplots.AxesSubplot at 0x7fb1d37e33a0>"
      ]
     },
     "execution_count": 25,
     "metadata": {},
     "output_type": "execute_result"
    },
    {
     "data": {
      "image/png": "[encoded data removed]",
      "text/plain": [
       "<Figure size 432x288 with 1 Axes>"
      ]
     },
     "metadata": {
      "needs_background": "light"
     },
     "output_type": "display_data"
    }
   ],
   "source": [
    "# plot neonatal mortality\n",
    "df_neonatal.head(10).plot(x='GEO_country',\n",
    "               y='NeonatalMortRate_p1k', \n",
    "               kind='bar')"
   ]
  },
  {
   "cell_type": "code",
   "execution_count": 38,
   "metadata": {},
   "outputs": [
    {
     "data": {
      "text/html": [
       "<div>\n",
       "<style scoped>\n",
       "    .dataframe tbody tr th:only-of-type {\n",
       "        vertical-align: middle;\n",
       "    }\n",
       "\n",
       "    .dataframe tbody tr th {\n",
       "        vertical-align: top;\n",
       "    }\n",
       "\n",
       "    .dataframe thead th {\n",
       "        text-align: right;\n",
       "    }\n",
       "</style>\n",
       "<table border=\"1\" class=\"dataframe\">\n",
       "  <thead>\n",
       "    <tr style=\"text-align: right;\">\n",
       "      <th></th>\n",
       "      <th>GEO_country</th>\n",
       "      <th>TotalPop</th>\n",
       "      <th>InfantMortRate_p1k</th>\n",
       "    </tr>\n",
       "  </thead>\n",
       "  <tbody>\n",
       "    <tr>\n",
       "      <th>82</th>\n",
       "      <td>Angola</td>\n",
       "      <td>25021974.0</td>\n",
       "      <td>96.0</td>\n",
       "    </tr>\n",
       "    <tr>\n",
       "      <th>4</th>\n",
       "      <td>Central African Republic</td>\n",
       "      <td>4900274.0</td>\n",
       "      <td>91.5</td>\n",
       "    </tr>\n",
       "    <tr>\n",
       "      <th>23</th>\n",
       "      <td>Sierra Leone</td>\n",
       "      <td>6453184.0</td>\n",
       "      <td>87.1</td>\n",
       "    </tr>\n",
       "    <tr>\n",
       "      <th>24</th>\n",
       "      <td>Somalia</td>\n",
       "      <td>10787104.0</td>\n",
       "      <td>85.0</td>\n",
       "    </tr>\n",
       "    <tr>\n",
       "      <th>26</th>\n",
       "      <td>Chad</td>\n",
       "      <td>14037472.0</td>\n",
       "      <td>85.0</td>\n",
       "    </tr>\n",
       "    <tr>\n",
       "      <th>16</th>\n",
       "      <td>Mali</td>\n",
       "      <td>17599694.0</td>\n",
       "      <td>74.5</td>\n",
       "    </tr>\n",
       "    <tr>\n",
       "      <th>5</th>\n",
       "      <td>Congo, DRC</td>\n",
       "      <td>77266814.0</td>\n",
       "      <td>74.5</td>\n",
       "    </tr>\n",
       "    <tr>\n",
       "      <th>59</th>\n",
       "      <td>Nigeria</td>\n",
       "      <td>182201962.0</td>\n",
       "      <td>69.4</td>\n",
       "    </tr>\n",
       "    <tr>\n",
       "      <th>54</th>\n",
       "      <td>Lesotho</td>\n",
       "      <td>2135022.0</td>\n",
       "      <td>69.2</td>\n",
       "    </tr>\n",
       "    <tr>\n",
       "      <th>35</th>\n",
       "      <td>Cote d'Ivoire</td>\n",
       "      <td>22701556.0</td>\n",
       "      <td>66.6</td>\n",
       "    </tr>\n",
       "  </tbody>\n",
       "</table>\n",
       "</div>"
      ],
      "text/plain": [
       "                 GEO_country     TotalPop  InfantMortRate_p1k\n",
       "82                    Angola   25021974.0                96.0\n",
       "4   Central African Republic    4900274.0                91.5\n",
       "23              Sierra Leone    6453184.0                87.1\n",
       "24                   Somalia   10787104.0                85.0\n",
       "26                      Chad   14037472.0                85.0\n",
       "16                      Mali   17599694.0                74.5\n",
       "5                 Congo, DRC   77266814.0                74.5\n",
       "59                   Nigeria  182201962.0                69.4\n",
       "54                   Lesotho    2135022.0                69.2\n",
       "35             Cote d'Ivoire   22701556.0                66.6"
      ]
     },
     "execution_count": 38,
     "metadata": {},
     "output_type": "execute_result"
    }
   ],
   "source": [
    "# next, sort by 10 highest infant mortality rates\n",
    "df_infant = df.sort_values(by='InfantMortRate_p1k',ascending=False)\n",
    "df_infant[['GEO_country','TotalPop','InfantMortRate_p1k']].head(10)"
   ]
  },
  {
   "cell_type": "code",
   "execution_count": 27,
   "metadata": {},
   "outputs": [
    {
     "data": {
      "text/plain": [
       "<matplotlib.axes._subplots.AxesSubplot at 0x7fb1d36dbca0>"
      ]
     },
     "execution_count": 27,
     "metadata": {},
     "output_type": "execute_result"
    },
    {
     "data": {
      "image/png": "[encoded data removed]",
      "text/plain": [
       "<Figure size 432x288 with 1 Axes>"
      ]
     },
     "metadata": {
      "needs_background": "light"
     },
     "output_type": "display_data"
    }
   ],
   "source": [
    "# plot infant mortality\n",
    "df_infant.head(10).plot(x='GEO_country',\n",
    "               y='InfantMortRate_p1k', \n",
    "               kind='bar')"
   ]
  },
  {
   "cell_type": "code",
   "execution_count": 39,
   "metadata": {},
   "outputs": [
    {
     "data": {
      "text/html": [
       "<div>\n",
       "<style scoped>\n",
       "    .dataframe tbody tr th:only-of-type {\n",
       "        vertical-align: middle;\n",
       "    }\n",
       "\n",
       "    .dataframe tbody tr th {\n",
       "        vertical-align: top;\n",
       "    }\n",
       "\n",
       "    .dataframe thead th {\n",
       "        text-align: right;\n",
       "    }\n",
       "</style>\n",
       "<table border=\"1\" class=\"dataframe\">\n",
       "  <thead>\n",
       "    <tr style=\"text-align: right;\">\n",
       "      <th></th>\n",
       "      <th>GEO_country</th>\n",
       "      <th>TotalPop</th>\n",
       "      <th>U5MortRate_p1k</th>\n",
       "    </tr>\n",
       "  </thead>\n",
       "  <tbody>\n",
       "    <tr>\n",
       "      <th>82</th>\n",
       "      <td>Angola</td>\n",
       "      <td>25021974.0</td>\n",
       "      <td>156.9</td>\n",
       "    </tr>\n",
       "    <tr>\n",
       "      <th>26</th>\n",
       "      <td>Chad</td>\n",
       "      <td>14037472.0</td>\n",
       "      <td>138.7</td>\n",
       "    </tr>\n",
       "    <tr>\n",
       "      <th>24</th>\n",
       "      <td>Somalia</td>\n",
       "      <td>10787104.0</td>\n",
       "      <td>136.8</td>\n",
       "    </tr>\n",
       "    <tr>\n",
       "      <th>4</th>\n",
       "      <td>Central African Republic</td>\n",
       "      <td>4900274.0</td>\n",
       "      <td>130.1</td>\n",
       "    </tr>\n",
       "    <tr>\n",
       "      <th>23</th>\n",
       "      <td>Sierra Leone</td>\n",
       "      <td>6453184.0</td>\n",
       "      <td>120.4</td>\n",
       "    </tr>\n",
       "    <tr>\n",
       "      <th>16</th>\n",
       "      <td>Mali</td>\n",
       "      <td>17599694.0</td>\n",
       "      <td>114.7</td>\n",
       "    </tr>\n",
       "    <tr>\n",
       "      <th>59</th>\n",
       "      <td>Nigeria</td>\n",
       "      <td>182201962.0</td>\n",
       "      <td>108.8</td>\n",
       "    </tr>\n",
       "    <tr>\n",
       "      <th>2</th>\n",
       "      <td>Benin</td>\n",
       "      <td>10879829.0</td>\n",
       "      <td>99.5</td>\n",
       "    </tr>\n",
       "    <tr>\n",
       "      <th>5</th>\n",
       "      <td>Congo, DRC</td>\n",
       "      <td>77266814.0</td>\n",
       "      <td>98.3</td>\n",
       "    </tr>\n",
       "    <tr>\n",
       "      <th>19</th>\n",
       "      <td>Niger</td>\n",
       "      <td>19899120.0</td>\n",
       "      <td>95.5</td>\n",
       "    </tr>\n",
       "  </tbody>\n",
       "</table>\n",
       "</div>"
      ],
      "text/plain": [
       "                 GEO_country     TotalPop  U5MortRate_p1k\n",
       "82                    Angola   25021974.0           156.9\n",
       "26                      Chad   14037472.0           138.7\n",
       "24                   Somalia   10787104.0           136.8\n",
       "4   Central African Republic    4900274.0           130.1\n",
       "23              Sierra Leone    6453184.0           120.4\n",
       "16                      Mali   17599694.0           114.7\n",
       "59                   Nigeria  182201962.0           108.8\n",
       "2                      Benin   10879829.0            99.5\n",
       "5                 Congo, DRC   77266814.0            98.3\n",
       "19                     Niger   19899120.0            95.5"
      ]
     },
     "execution_count": 39,
     "metadata": {},
     "output_type": "execute_result"
    }
   ],
   "source": [
    "# now sort by 10 highest under-5 mortality rate\n",
    "df_u5 = df.sort_values(by='U5MortRate_p1k',ascending=False)\n",
    "df_u5[['GEO_country','TotalPop','U5MortRate_p1k']].head(10)"
   ]
  },
  {
   "cell_type": "code",
   "execution_count": 29,
   "metadata": {},
   "outputs": [
    {
     "data": {
      "text/plain": [
       "<matplotlib.axes._subplots.AxesSubplot at 0x7fb1d36c1a90>"
      ]
     },
     "execution_count": 29,
     "metadata": {},
     "output_type": "execute_result"
    },
    {
     "data": {
      "image/png": "[encoded data removed]",
      "text/plain": [
       "<Figure size 432x288 with 1 Axes>"
      ]
     },
     "metadata": {
      "needs_background": "light"
     },
     "output_type": "display_data"
    }
   ],
   "source": [
    "# plot under-5 mortality\n",
    "df_u5.head(10).plot(x='GEO_country',\n",
    "               y='U5MortRate_p1k', \n",
    "               kind='bar')"
   ]
  },
  {
   "cell_type": "code",
   "execution_count": 40,
   "metadata": {},
   "outputs": [
    {
     "data": {
      "text/html": [
       "<div>\n",
       "<style scoped>\n",
       "    .dataframe tbody tr th:only-of-type {\n",
       "        vertical-align: middle;\n",
       "    }\n",
       "\n",
       "    .dataframe tbody tr th {\n",
       "        vertical-align: top;\n",
       "    }\n",
       "\n",
       "    .dataframe thead th {\n",
       "        text-align: right;\n",
       "    }\n",
       "</style>\n",
       "<table border=\"1\" class=\"dataframe\">\n",
       "  <thead>\n",
       "    <tr style=\"text-align: right;\">\n",
       "      <th></th>\n",
       "      <th>GEO_country</th>\n",
       "      <th>TotalPop</th>\n",
       "      <th>MaternalMortRate_p100k</th>\n",
       "    </tr>\n",
       "  </thead>\n",
       "  <tbody>\n",
       "    <tr>\n",
       "      <th>23</th>\n",
       "      <td>Sierra Leone</td>\n",
       "      <td>6453184.0</td>\n",
       "      <td>1360.0</td>\n",
       "    </tr>\n",
       "    <tr>\n",
       "      <th>4</th>\n",
       "      <td>Central African Republic</td>\n",
       "      <td>4900274.0</td>\n",
       "      <td>882.0</td>\n",
       "    </tr>\n",
       "    <tr>\n",
       "      <th>26</th>\n",
       "      <td>Chad</td>\n",
       "      <td>14037472.0</td>\n",
       "      <td>856.0</td>\n",
       "    </tr>\n",
       "    <tr>\n",
       "      <th>59</th>\n",
       "      <td>Nigeria</td>\n",
       "      <td>182201962.0</td>\n",
       "      <td>814.0</td>\n",
       "    </tr>\n",
       "    <tr>\n",
       "      <th>25</th>\n",
       "      <td>South Sudan</td>\n",
       "      <td>12339812.0</td>\n",
       "      <td>789.0</td>\n",
       "    </tr>\n",
       "    <tr>\n",
       "      <th>24</th>\n",
       "      <td>Somalia</td>\n",
       "      <td>10787104.0</td>\n",
       "      <td>732.0</td>\n",
       "    </tr>\n",
       "    <tr>\n",
       "      <th>14</th>\n",
       "      <td>Liberia</td>\n",
       "      <td>4503438.0</td>\n",
       "      <td>725.0</td>\n",
       "    </tr>\n",
       "    <tr>\n",
       "      <th>1</th>\n",
       "      <td>Burundi</td>\n",
       "      <td>11178921.0</td>\n",
       "      <td>712.0</td>\n",
       "    </tr>\n",
       "    <tr>\n",
       "      <th>10</th>\n",
       "      <td>The Gambia</td>\n",
       "      <td>1990924.0</td>\n",
       "      <td>706.0</td>\n",
       "    </tr>\n",
       "    <tr>\n",
       "      <th>5</th>\n",
       "      <td>Congo, DRC</td>\n",
       "      <td>77266814.0</td>\n",
       "      <td>693.0</td>\n",
       "    </tr>\n",
       "  </tbody>\n",
       "</table>\n",
       "</div>"
      ],
      "text/plain": [
       "                 GEO_country     TotalPop  MaternalMortRate_p100k\n",
       "23              Sierra Leone    6453184.0                  1360.0\n",
       "4   Central African Republic    4900274.0                   882.0\n",
       "26                      Chad   14037472.0                   856.0\n",
       "59                   Nigeria  182201962.0                   814.0\n",
       "25               South Sudan   12339812.0                   789.0\n",
       "24                   Somalia   10787104.0                   732.0\n",
       "14                   Liberia    4503438.0                   725.0\n",
       "1                    Burundi   11178921.0                   712.0\n",
       "10                The Gambia    1990924.0                   706.0\n",
       "5                 Congo, DRC   77266814.0                   693.0"
      ]
     },
     "execution_count": 40,
     "metadata": {},
     "output_type": "execute_result"
    }
   ],
   "source": [
    "# lastly, sort by 10 highest maternal mortality rate\n",
    "df_maternal = df.sort_values(by='MaternalMortRate_p100k',ascending=False)\n",
    "df_maternal[['GEO_country','TotalPop','MaternalMortRate_p100k']].head(10)"
   ]
  },
  {
   "cell_type": "code",
   "execution_count": 34,
   "metadata": {},
   "outputs": [
    {
     "data": {
      "text/plain": [
       "<matplotlib.axes._subplots.AxesSubplot at 0x7fb1d35e9640>"
      ]
     },
     "execution_count": 34,
     "metadata": {},
     "output_type": "execute_result"
    },
    {
     "data": {
      "image/png": "[encoded data removed]",
      "text/plain": [
       "<Figure size 432x288 with 1 Axes>"
      ]
     },
     "metadata": {
      "needs_background": "light"
     },
     "output_type": "display_data"
    }
   ],
   "source": [
    "# plot maternal mortality\n",
    "df_maternal.head(10).plot(x='GEO_country',\n",
    "                          y='MaternalMortRate_p100k',\n",
    "                          kind='bar')"
   ]
  },
  {
   "cell_type": "markdown",
   "metadata": {},
   "source": [
    "One thing that I haven't been able to do but I think would make these visualizations much easier to compare to each other would be to assign a color to each country to track how these bars \"move\" in the ranking between charts.\n",
    "\n",
    "Now I'd like to sort and plot countries by % of rural population to see if this ranking overlaps with the health indicators above."
   ]
  },
  {
   "cell_type": "code",
   "execution_count": 43,
   "metadata": {},
   "outputs": [
    {
     "data": {
      "text/html": [
       "<div>\n",
       "<style scoped>\n",
       "    .dataframe tbody tr th:only-of-type {\n",
       "        vertical-align: middle;\n",
       "    }\n",
       "\n",
       "    .dataframe tbody tr th {\n",
       "        vertical-align: top;\n",
       "    }\n",
       "\n",
       "    .dataframe thead th {\n",
       "        text-align: right;\n",
       "    }\n",
       "</style>\n",
       "<table border=\"1\" class=\"dataframe\">\n",
       "  <thead>\n",
       "    <tr style=\"text-align: right;\">\n",
       "      <th></th>\n",
       "      <th>GEO_country</th>\n",
       "      <th>TotalPop</th>\n",
       "      <th>Rural_PCT</th>\n",
       "    </tr>\n",
       "  </thead>\n",
       "  <tbody>\n",
       "    <tr>\n",
       "      <th>108</th>\n",
       "      <td>Lebanon</td>\n",
       "      <td>5850743.0</td>\n",
       "      <td>87.79</td>\n",
       "    </tr>\n",
       "    <tr>\n",
       "      <th>84</th>\n",
       "      <td>American Samoa</td>\n",
       "      <td>55538.0</td>\n",
       "      <td>87.20</td>\n",
       "    </tr>\n",
       "    <tr>\n",
       "      <th>101</th>\n",
       "      <td>Gabon</td>\n",
       "      <td>1725292.0</td>\n",
       "      <td>87.16</td>\n",
       "    </tr>\n",
       "    <tr>\n",
       "      <th>122</th>\n",
       "      <td>Palau</td>\n",
       "      <td>21291.0</td>\n",
       "      <td>87.07</td>\n",
       "    </tr>\n",
       "    <tr>\n",
       "      <th>90</th>\n",
       "      <td>Brazil</td>\n",
       "      <td>207847528.0</td>\n",
       "      <td>85.69</td>\n",
       "    </tr>\n",
       "    <tr>\n",
       "      <th>106</th>\n",
       "      <td>Jordan</td>\n",
       "      <td>7594547.0</td>\n",
       "      <td>83.68</td>\n",
       "    </tr>\n",
       "    <tr>\n",
       "      <th>112</th>\n",
       "      <td>Mexico</td>\n",
       "      <td>127017224.0</td>\n",
       "      <td>79.25</td>\n",
       "    </tr>\n",
       "    <tr>\n",
       "      <th>97</th>\n",
       "      <td>Dominican Republic</td>\n",
       "      <td>10528391.0</td>\n",
       "      <td>78.98</td>\n",
       "    </tr>\n",
       "    <tr>\n",
       "      <th>121</th>\n",
       "      <td>Peru</td>\n",
       "      <td>31376670.0</td>\n",
       "      <td>78.61</td>\n",
       "    </tr>\n",
       "    <tr>\n",
       "      <th>109</th>\n",
       "      <td>Libya</td>\n",
       "      <td>6278438.0</td>\n",
       "      <td>78.55</td>\n",
       "    </tr>\n",
       "  </tbody>\n",
       "</table>\n",
       "</div>"
      ],
      "text/plain": [
       "            GEO_country     TotalPop  Rural_PCT\n",
       "108             Lebanon    5850743.0      87.79\n",
       "84       American Samoa      55538.0      87.20\n",
       "101               Gabon    1725292.0      87.16\n",
       "122               Palau      21291.0      87.07\n",
       "90               Brazil  207847528.0      85.69\n",
       "106              Jordan    7594547.0      83.68\n",
       "112              Mexico  127017224.0      79.25\n",
       "97   Dominican Republic   10528391.0      78.98\n",
       "121                Peru   31376670.0      78.61\n",
       "109               Libya    6278438.0      78.55"
      ]
     },
     "execution_count": 43,
     "metadata": {},
     "output_type": "execute_result"
    }
   ],
   "source": [
    "df_rural = df.sort_values(by='Rural_PCT',ascending=False)\n",
    "df_rural[['GEO_country','TotalPop','Rural_PCT']].head(10)"
   ]
  },
  {
   "cell_type": "markdown",
   "metadata": {
    "slideshow": {
     "slide_type": "slide"
    }
   },
   "source": [
    "I was expecting to see more overlap between the four mortality rate plots and the above list of the top ten countries with the highest percentage of rural population. I want to further visualize this relationship (or therelackof) with scatter plots."
   ]
  },
  {
   "cell_type": "code",
   "execution_count": 44,
   "metadata": {},
   "outputs": [
    {
     "data": {
      "text/plain": [
       "<matplotlib.axes._subplots.AxesSubplot at 0x7fb1d34ca8e0>"
      ]
     },
     "execution_count": 44,
     "metadata": {},
     "output_type": "execute_result"
    },
    {
     "data": {
      "image/png": "[encoded data removed]",
      "text/plain": [
       "<Figure size 432x288 with 1 Axes>"
      ]
     },
     "metadata": {
      "needs_background": "light"
     },
     "output_type": "display_data"
    }
   ],
   "source": [
    "df_rural.plot(x ='NeonatalMortRate_p1k', y='Rural_PCT', kind = 'scatter')"
   ]
  },
  {
   "cell_type": "code",
   "execution_count": 45,
   "metadata": {},
   "outputs": [
    {
     "data": {
      "text/plain": [
       "<matplotlib.axes._subplots.AxesSubplot at 0x7fb1d3227790>"
      ]
     },
     "execution_count": 45,
     "metadata": {},
     "output_type": "execute_result"
    },
    {
     "data": {
      "image/png": "[encoded data removed]",
      "text/plain": [
       "<Figure size 432x288 with 1 Axes>"
      ]
     },
     "metadata": {
      "needs_background": "light"
     },
     "output_type": "display_data"
    }
   ],
   "source": [
    "df_rural.plot(x ='InfantMortRate_p1k', y='Rural_PCT', kind = 'scatter')"
   ]
  },
  {
   "cell_type": "code",
   "execution_count": 46,
   "metadata": {},
   "outputs": [
    {
     "data": {
      "text/plain": [
       "<matplotlib.axes._subplots.AxesSubplot at 0x7fb1d318a640>"
      ]
     },
     "execution_count": 46,
     "metadata": {},
     "output_type": "execute_result"
    },
    {
     "data": {
      "image/png": "[encoded data removed]",
      "text/plain": [
       "<Figure size 432x288 with 1 Axes>"
      ]
     },
     "metadata": {
      "needs_background": "light"
     },
     "output_type": "display_data"
    }
   ],
   "source": [
    "df_rural.plot(x ='U5MortRate_p1k', y='Rural_PCT', kind = 'scatter')"
   ]
  },
  {
   "cell_type": "code",
   "execution_count": 54,
   "metadata": {},
   "outputs": [
    {
     "data": {
      "text/plain": [
       "<matplotlib.axes._subplots.AxesSubplot at 0x7fb1d2d1d910>"
      ]
     },
     "execution_count": 54,
     "metadata": {},
     "output_type": "execute_result"
    },
    {
     "data": {
      "image/png": "[encoded data removed]",
      "text/plain": [
       "<Figure size 432x288 with 1 Axes>"
      ]
     },
     "metadata": {
      "needs_background": "light"
     },
     "output_type": "display_data"
    }
   ],
   "source": [
    "df_rural.plot(x ='MaternalMortRate_p100k', y='Rural_PCT', kind = 'scatter')"
   ]
  },
  {
   "cell_type": "markdown",
   "metadata": {},
   "source": [
    "The scatter plots don't seem to support the hypothesis that higher rural population size is associated with higher rates of preventable mortality (neonatal, infant, under-5 and maternal). With this in mind, I want to bring in a second dataset that has additional country-level indicators for further comparisons. This dataframe also has age data but I don't think I need to use it at the moment."
   ]
  },
  {
   "cell_type": "markdown",
   "metadata": {},
   "source": [
    "## Maps"
   ]
  },
  {
   "cell_type": "markdown",
   "metadata": {},
   "source": [
    "This is where I ran into problems. Upon closer examination I realized that the FIPS column of this dataset and the dataset I used for my previous data exploration exercise do not match. The FIPS code of this dataset is a 6-letter code while the FIPS code from my previous homework dataset is a 2-letter string. I tried to see if there's any way to add a column to this dataset that matched the FIPS code of the other dataset but I wasn't able to figure it out. I read a bit about international FIPS codes and there are indeed a few types. I read the codebook for this dataset (available in this folder) and there is no indication about what 'version' of FIPS they are using. I don't want to discard this dataset so any thoughts of how to merge are welcomed! (I tried by country name but the other dataset has more than one row per column and the names are in all caps so it didn't actually read them as the same country name. Help!"
   ]
  },
  {
   "cell_type": "code",
   "execution_count": null,
   "metadata": {},
   "outputs": [],
   "source": []
  }
 ],
 "metadata": {
  "kernelspec": {
   "display_name": "Python 3",
   "language": "python",
   "name": "python3"
  },
  "language_info": {
   "codemirror_mode": {
    "name": "ipython",
    "version": 3
   },
   "file_extension": ".py",
   "mimetype": "text/x-python",
   "name": "python",
   "nbconvert_exporter": "python",
   "pygments_lexer": "ipython3",
   "version": "3.8.5"
  },
  "toc": {
   "base_numbering": 1,
   "nav_menu": {},
   "number_sections": true,
   "sideBar": true,
   "skip_h1_title": false,
   "title_cell": "Table of Contents",
   "title_sidebar": "Contents",
   "toc_cell": false,
   "toc_position": {},
   "toc_section_display": true,
   "toc_window_display": false
  }
 },
 "nbformat": 4,
 "nbformat_minor": 4
}
